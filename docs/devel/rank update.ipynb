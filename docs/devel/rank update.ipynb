{
 "cells": [
  {
   "cell_type": "code",
   "execution_count": 17,
   "metadata": {},
   "outputs": [
    {
     "data": {
      "text/plain": [
       "array([4., 4., 0., 0.])"
      ]
     },
     "execution_count": 17,
     "metadata": {},
     "output_type": "execute_result"
    }
   ],
   "source": [
    "import numpy as np\n",
    "\n",
    "x = np.array([ 4., 4., 0, 0, ], dtype=float)\n",
    "np.outer(x,x)"
   ]
  },
  {
   "cell_type": "code",
   "execution_count": 15,
   "metadata": {},
   "outputs": [],
   "source": [
    "def multi_rankupdate(R,x):\n",
    "    p = np.size(x)\n",
    "    x = x.T\n",
    "    \n",
    "    k=0\n",
    "    for k in range(p):\n",
    "        r = np.sqrt(R[k,k]**2 + x[k]**2)\n",
    "        c = r/R[k,k]\n",
    "        s = x[k]/R[k,k]\n",
    "        R[k,k] = r\n",
    "        R[k,k+1:p] = (R[k,k+1:p] + s*x[k+1:p])/c\n",
    "        x[k+1:p]= c*x[k+1:p] - s*R[k, k+1:p]\n",
    "        \n",
    "    for k in range(1,p):\n",
    "        r = R[k,k]\n",
    "        c = 1.0\n",
    "        s = 0.\n",
    "        x[k+1:p] = x[k+1:p]\n",
    "    return R"
   ]
  },
  {
   "cell_type": "code",
   "execution_count": 58,
   "metadata": {},
   "outputs": [],
   "source": [
    "def cholupdate(R,x):\n",
    "    p = int(np.size(x))\n",
    "    for k in range(p):\n",
    "        r = np.sqrt(R[k,k]**2 + x[k]**2)\n",
    "        c = r/R[k,k]\n",
    "        s = x[k]/R[k,k]\n",
    "        R[k,k] = r\n",
    "        R[k,k+1:p] = (R[k,k+1:p] + s*x[k+1:p])/c\n",
    "        x[k+1:p]= c*x[k+1:p] - s*R[k, k+1:p]\n",
    "    return R"
   ]
  },
  {
   "cell_type": "code",
   "execution_count": 2,
   "metadata": {},
   "outputs": [
    {
     "data": {
      "text/plain": [
       "array([[ 1.7488399 , -1.92816395, -1.39618642, -0.2769755 , -0.52815529,\n",
       "         0.24624319],\n",
       "       [-1.92816395,  3.34435465,  2.07258617,  0.4417173 ,  0.84673143,\n",
       "        -0.35075244],\n",
       "       [-1.39618642,  2.07258617,  2.1623261 ,  0.25923918,  0.64428255,\n",
       "        -0.2329581 ],\n",
       "       [-0.2769755 ,  0.4417173 ,  0.25923918,  0.6147927 ,  0.15112057,\n",
       "        -0.00692033],\n",
       "       [-0.52815529,  0.84673143,  0.64428255,  0.15112057,  0.80141217,\n",
       "        -0.19682322],\n",
       "       [ 0.24624319, -0.35075244, -0.2329581 , -0.00692033, -0.19682322,\n",
       "         0.56240547]])"
      ]
     },
     "execution_count": 2,
     "metadata": {},
     "output_type": "execute_result"
    }
   ],
   "source": [
    "from sklearn.datasets import make_spd_matrix\n",
    "A = make_spd_matrix(6,4)\n",
    "A                    "
   ]
  },
  {
   "cell_type": "code",
   "execution_count": 118,
   "metadata": {},
   "outputs": [
    {
     "data": {
      "text/plain": [
       "array([[ 2.55704765, -0.53197398,  1.3351233 , -1.46980807],\n",
       "       [-0.53197398,  0.39179579, -0.58107637,  0.14898069],\n",
       "       [ 1.3351233 , -0.58107637,  1.12295   , -0.70014778],\n",
       "       [-1.46980807,  0.14898069, -0.70014778,  1.32457697]])"
      ]
     },
     "execution_count": 118,
     "metadata": {},
     "output_type": "execute_result"
    }
   ],
   "source": [
    "L = np.linalg.cholesky(A)\n",
    "np.dot(L, L.T.conj()) # verify that L * L.H = A"
   ]
  },
  {
   "cell_type": "code",
   "execution_count": 132,
   "metadata": {},
   "outputs": [
    {
     "data": {
      "text/plain": [
       "array([[ 3.55704765, -0.53197398,  1.3351233 , -1.46980807],\n",
       "       [-0.53197398,  0.39179579, -0.58107637,  0.14898069],\n",
       "       [ 1.3351233 , -0.58107637,  1.12295   , -0.70014778],\n",
       "       [-1.46980807,  0.14898069, -0.70014778,  1.32457697]])"
      ]
     },
     "execution_count": 132,
     "metadata": {},
     "output_type": "execute_result"
    }
   ],
   "source": [
    "beta = np.array([ 1.0, 0, 0, 0 ])\n",
    "# beta = np.array([ 1.0, 1.0, 1.0, 1.0 ])\n",
    "A_b = A + np.outer(beta,beta.T)\n",
    "A_b"
   ]
  },
  {
   "cell_type": "code",
   "execution_count": 145,
   "metadata": {},
   "outputs": [
    {
     "name": "stdout",
     "output_type": "stream",
     "text": [
      "0.17639088607246817\n",
      "-0.23947790293899615\n",
      "0.24510932781116973\n"
     ]
    },
    {
     "data": {
      "text/plain": [
       "2.160125706819257e-15"
      ]
     },
     "execution_count": 145,
     "metadata": {},
     "output_type": "execute_result"
    }
   ],
   "source": [
    "#function [L] = cholupdate(L, x)\n",
    "#    n = length(x);\n",
    "#    for k = 1:n\n",
    "#        r = sqrt(L(k, k)^2 + x(k)^2);\n",
    "#        c = r / L(k, k);\n",
    "#        s = x(k) / L(k, k);\n",
    "#        L(k, k) = r;\n",
    "#        L(k+1:n, k) = (L(k+1:n, k) + s * x(k+1:n)) / c;\n",
    "#        x(k+1:n) = c * x(k+1:n) - s * L(k+1:n, k);\n",
    "#    end\n",
    "#end\n",
    "def cholupdate(Rin,xin):\n",
    "    R = Rin.copy()\n",
    "    x = xin.copy()\n",
    "    p = int(np.size(x))\n",
    "    for k in range(p):\n",
    "        r = np.sqrt(R[k,k]**2 + x[k]**2)\n",
    "        c = r/R[k,k]\n",
    "        s = x[k]/R[k,k]\n",
    "        R[k,k] = r\n",
    "        R[k,k+1:p] = (R[k,k+1:p] + s*x[k+1:p])/c\n",
    "        x[k+1:p] = c*x[k+1:p] - s*R[k, k+1:p]\n",
    "    return R\n",
    "\n",
    "def cholupdate_allzerosbutone(Rin,xin):\n",
    "    R = Rin.copy()\n",
    "    x = xin.copy()\n",
    "    p = int(np.size(x))\n",
    "    \n",
    "    k = 0\n",
    "    r = np.sqrt(R[k,k]**2 + x[k]**2)\n",
    "    c = r/R[k,k]\n",
    "    s = x[k]/R[k,k]\n",
    "    R[k,k] = r\n",
    "    R[k,k+1:p] = (R[k,k+1:p] + s*x[k+1:p])/c\n",
    "    x[k+1:p] = - s*R[k, k+1:p]\n",
    "    \n",
    "    for k in range(1,p):\n",
    "        print(x[k])\n",
    "        r = np.sqrt(R[k,k]**2 + x[k]**2)\n",
    "        c = r/R[k,k]\n",
    "        s = x[k]/R[k,k]\n",
    "        R[k,k] = r\n",
    "        R[k,k+1:p] = (R[k,k+1:p] + s*x[k+1:p])/c\n",
    "        x[k+1:p] = c*x[k+1:p] - s*R[k, k+1:p]\n",
    "    return R\n",
    "\n",
    "L_b = cholupdate_allzerosbutone(L.T, beta).T\n",
    "np.linalg.norm(np.dot(L_b, L_b.T.conj()) - A_b) # verify that L * L.H = A\n",
    "# L, L_b"
   ]
  },
  {
   "cell_type": "code",
   "execution_count": 125,
   "metadata": {},
   "outputs": [
    {
     "data": {
      "text/plain": [
       "array([[ 1.88601369,  0.        ,  0.        ,  0.        ],\n",
       "       [ 0.24815621,  1.15334916,  0.        ,  0.        ],\n",
       "       [ 1.23812638,  0.0968266 ,  0.76198273,  0.        ],\n",
       "       [-0.24910109,  1.0498093 ,  0.66487253,  0.84756744]])"
      ]
     },
     "execution_count": 125,
     "metadata": {},
     "output_type": "execute_result"
    }
   ],
   "source": [
    "L_b = np.linalg.cholesky(A_b)\n",
    "L_b"
   ]
  },
  {
   "cell_type": "code",
   "execution_count": null,
   "metadata": {},
   "outputs": [],
   "source": []
  }
 ],
 "metadata": {
  "kernelspec": {
   "display_name": "Python 3",
   "language": "python",
   "name": "python3"
  },
  "language_info": {
   "codemirror_mode": {
    "name": "ipython",
    "version": 3
   },
   "file_extension": ".py",
   "mimetype": "text/x-python",
   "name": "python",
   "nbconvert_exporter": "python",
   "pygments_lexer": "ipython3",
   "version": "3.6.4"
  }
 },
 "nbformat": 4,
 "nbformat_minor": 2
}
