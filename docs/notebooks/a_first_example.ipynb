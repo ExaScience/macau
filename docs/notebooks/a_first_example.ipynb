{
 "cells": [
  {
   "cell_type": "markdown",
   "metadata": {},
   "source": [
    "## A first example running SMURFF\n",
    "\n",
    "In this notebook we will run the BPMF algorithm using SMURFF, \n",
    "on compound-activity data.\n",
    "\n",
    "### Downloading the data files\n",
    "\n",
    "In these examples we use ChEMBL dataset for compound-proteins activities (IC50). The IC50 values and ECFP fingerprints can be downloaded using this smurff function:"
   ]
  },
  {
   "cell_type": "code",
   "execution_count": 1,
   "metadata": {},
   "outputs": [],
   "source": [
    "import smurff\n",
    "\n",
    "ic50_train, ic50_test, ecfp = smurff.load_chembl()"
   ]
  },
  {
   "cell_type": "markdown",
   "metadata": {},
   "source": [
    "The resulting variables are all `scipy.sparse` matrices: `ic50` is\n",
    "a sparse matrix containing interactions between chemical compounds (in the rows)\n",
    "and protein targets (called essays - in the columns). The matrix is already split in \n",
    "as train and test set.\n",
    "\n",
    "The `ecfp` contains compound features. These features will not be used in this example."
   ]
  },
  {
   "cell_type": "markdown",
   "metadata": {},
   "source": [
    "### Having a look at the data\n",
    "\n",
    "The `spy` function in `matplotlib` is a handy function to plot sparsity pattern of a matrix."
   ]
  },
  {
   "cell_type": "code",
   "execution_count": null,
   "metadata": {},
   "outputs": [],
   "source": [
    "%matplotlib inline\n",
    "\n",
    "from matplotlib.pyplot import figure, show\n",
    "\n",
    "fig = figure()\n",
    "ax = fig.add_subplot(111)\n",
    "ax.spy(ic50_train.tocsr()[0:1000,:].T, markersize = 1)\n",
    "show()"
   ]
  },
  {
   "cell_type": "markdown",
   "metadata": {},
   "source": [
    "### Running SMURFF\n",
    "\n",
    "Finally we run make a BPMF training session and call `run`. The `run` function builds the model and\n",
    "returns the `predictions` of the test data."
   ]
  },
  {
   "cell_type": "code",
   "execution_count": 2,
   "metadata": {},
   "outputs": [
    {
     "name": "stdout",
     "output_type": "stream",
     "text": [
      "PythonSession {\n",
      "  Data: {\n",
      "    Type: ScarceMatrixData [with NAs]\n",
      "    Component-wise mean: 6.35461\n",
      "    Component-wise variance: 1.88767\n",
      "    Noise: Fixed gaussian noise with precision: 5.00\n",
      "    Size: 47424 [15073 x 346] (0.91%)\n",
      "      Warning: 65 empty rows\n",
      "      Warning: 1 empty cols\n",
      "  }\n",
      "  Model: {\n",
      "    Num-latents: 16\n",
      "  }\n",
      "  Priors: {\n",
      "    0: NormalPrior\n",
      "    1: NormalPrior\n",
      "  }\n",
      "  Result: {\n",
      "    Test data: 11856 [15073 x 346] (0.23%)\n",
      "  }\n",
      "  Version: v0.12.3-47-gd172592\n",
      "  Iterations: 40 burnin + 200 samples\n",
      "  Save model: every 1 iteration\n",
      "  Checkpoint state: every 1 seconds\n",
      "  Save prefix: /var/folders/d4/zbkxjlq94pq0523x6sd7v3mw0000gn/T/tmpipm52aq5/save\n",
      "  Save extension: .ddm\n",
      "}\n",
      "\n",
      "Initial:   0/0 RMSE: nan (1samp: nan) U: [ 0: 0.00,1: 0.00 ] took 0.0s\n"
     ]
    }
   ],
   "source": [
    "session = smurff.BPMFSession(\n",
    "                       Ytrain     = ic50_train,\n",
    "                       Ytest      = ic50_test,\n",
    "                       num_latent = 16,\n",
    "                       burnin     = 40,\n",
    "                       nsamples   = 200,\n",
    "                       verbose    = 1,\n",
    "                       checkpoint_freq = 1,\n",
    "                       save_freq = 1,)\n",
    "\n",
    "predictions = session.init()"
   ]
  },
  {
   "cell_type": "markdown",
   "metadata": {},
   "source": [
    "We can use the `calc_rmse` function to calculate the RMSE."
   ]
  },
  {
   "cell_type": "code",
   "execution_count": null,
   "metadata": {},
   "outputs": [],
   "source": [
    "rmse = smurff.calc_rmse(predictions)\n",
    "rmse"
   ]
  },
  {
   "cell_type": "markdown",
   "metadata": {},
   "source": [
    "### Plotting predictions versus actual values\n",
    "Next to RMSE, we can also plot the predicted versus the actual values, to see how well the model performs."
   ]
  },
  {
   "cell_type": "code",
   "execution_count": null,
   "metadata": {},
   "outputs": [],
   "source": [
    "%matplotlib notebook\n",
    "\n",
    "import numpy\n",
    "from matplotlib.pyplot import subplots, show\n",
    "\n",
    "y = numpy.array([ p.val for p in predictions ])\n",
    "predicted = numpy.array([ p.pred_avg for p in predictions ])\n",
    "\n",
    "fig, ax = subplots()\n",
    "ax.scatter(y, predicted, edgecolors=(0, 0, 0))\n",
    "ax.plot([y.min(), y.max()], [y.min(), y.max()], 'k--', lw=4)\n",
    "ax.set_xlabel('Measured')\n",
    "ax.set_ylabel('Predicted')\n",
    "show()"
   ]
  }
 ],
 "metadata": {
  "kernelspec": {
   "display_name": "Python 3",
   "language": "python",
   "name": "python3"
  },
  "language_info": {
   "codemirror_mode": {
    "name": "ipython",
    "version": 3
   },
   "file_extension": ".py",
   "mimetype": "text/x-python",
   "name": "python",
   "nbconvert_exporter": "python",
   "pygments_lexer": "ipython3",
   "version": "3.6.5"
  }
 },
 "nbformat": 4,
 "nbformat_minor": 2
}
