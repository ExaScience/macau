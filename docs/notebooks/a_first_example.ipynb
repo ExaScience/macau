{
 "cells": [
  {
   "cell_type": "markdown",
   "metadata": {},
   "source": [
    "## A first example running SMURFF\n",
    "\n",
    "In this notebook we will run the BPMF algorithm using SMURFF, \n",
    "on compound-activity data.\n",
    "\n",
    "### Downloading the data files\n",
    "\n",
    "In these examples we use ChEMBL dataset for compound-proteins activities (IC50). The IC50 values and ECFP fingerprints can be downloaded using this smurff function:"
   ]
  },
  {
   "cell_type": "code",
   "execution_count": null,
   "metadata": {
    "execution": {
     "iopub.execute_input": "2021-04-07T13:16:14.146278Z",
     "iopub.status.busy": "2021-04-07T13:16:14.145493Z",
     "iopub.status.idle": "2021-04-07T13:16:18.476832Z",
     "shell.execute_reply": "2021-04-07T13:16:18.477260Z"
    }
   },
   "outputs": [],
   "source": [
    "import logging\n",
    "logging.basicConfig(level = logging.INFO)\n",
    "\n",
    "import smurff\n",
    "\n",
    "ic50_train, ic50_test, ecfp = smurff.load_chembl()"
   ]
  },
  {
   "cell_type": "markdown",
   "metadata": {},
   "source": [
    "The resulting variables are all `scipy.sparse` matrices: `ic50` is\n",
    "a sparse matrix containing interactions between chemical compounds (in the rows)\n",
    "and protein targets (called essays - in the columns). The matrix is already split in \n",
    "as train and test set.\n",
    "\n",
    "The `ecfp` contains compound features. These features will not be used in this example."
   ]
  },
  {
   "cell_type": "markdown",
   "metadata": {},
   "source": [
    "### Having a look at the data\n",
    "\n",
    "The `spy` function in `matplotlib` is a handy function to plot sparsity pattern of a matrix."
   ]
  },
  {
   "cell_type": "code",
   "execution_count": null,
   "metadata": {
    "execution": {
     "iopub.execute_input": "2021-04-07T13:16:18.481595Z",
     "iopub.status.busy": "2021-04-07T13:16:18.481121Z",
     "iopub.status.idle": "2021-04-07T13:16:19.011788Z",
     "shell.execute_reply": "2021-04-07T13:16:19.012215Z"
    }
   },
   "outputs": [],
   "source": [
    "%matplotlib inline\n",
    "\n",
    "import matplotlib.pyplot as plt \n",
    "\n",
    "fig = plt.figure()\n",
    "ax = fig.add_subplot(111)\n",
    "ax.spy(ic50_train.tocsr()[0:1000,:].T, markersize = 1)\n"
   ]
  },
  {
   "cell_type": "markdown",
   "metadata": {},
   "source": [
    "### Running SMURFF\n",
    "\n",
    "Finally we run make a BPMF training trainSession and call `run`. The `run` function builds the model and\n",
    "returns the `predictions` of the test data."
   ]
  },
  {
   "cell_type": "code",
   "execution_count": null,
   "metadata": {
    "execution": {
     "iopub.execute_input": "2021-04-07T13:16:19.017864Z",
     "iopub.status.busy": "2021-04-07T13:16:19.017249Z",
     "iopub.status.idle": "2021-04-07T13:16:24.275674Z",
     "shell.execute_reply": "2021-04-07T13:16:24.277768Z"
    }
   },
   "outputs": [],
   "source": [
    "trainSession = smurff.BPMFSession(\n",
    "                       Ytrain     = ic50_train,\n",
    "                       Ytest      = ic50_test,\n",
    "                       num_latent = 16,\n",
    "                       burnin     = 40,\n",
    "                       nsamples   = 200,\n",
    "                       verbose    = 1,\n",
    "                       checkpoint_freq = 1,\n",
    "                       save_freq = 1,)\n",
    "\n",
    "predictions = trainSession.run()"
   ]
  },
  {
   "cell_type": "markdown",
   "metadata": {},
   "source": [
    "We can use the `calc_rmse` function to calculate the RMSE."
   ]
  },
  {
   "cell_type": "code",
   "execution_count": null,
   "metadata": {
    "execution": {
     "iopub.execute_input": "2021-04-07T13:16:24.297719Z",
     "iopub.status.busy": "2021-04-07T13:16:24.296100Z",
     "iopub.status.idle": "2021-04-07T13:16:24.311946Z",
     "shell.execute_reply": "2021-04-07T13:16:24.312364Z"
    }
   },
   "outputs": [],
   "source": [
    "rmse = smurff.calc_rmse(predictions)\n",
    "rmse"
   ]
  },
  {
   "cell_type": "markdown",
   "metadata": {},
   "source": [
    "### Plotting predictions versus actual values\n",
    "Next to RMSE, we can also plot the predicted versus the actual values, to see how well the model performs."
   ]
  },
  {
   "cell_type": "code",
   "execution_count": null,
   "metadata": {
    "execution": {
     "iopub.execute_input": "2021-04-07T13:16:24.319347Z",
     "iopub.status.busy": "2021-04-07T13:16:24.318692Z",
     "iopub.status.idle": "2021-04-07T13:16:24.363320Z",
     "shell.execute_reply": "2021-04-07T13:16:24.363966Z"
    }
   },
   "outputs": [],
   "source": [
    "import numpy\n",
    "from matplotlib.pyplot import subplots, show\n",
    "\n",
    "y = numpy.array([ p.val for p in predictions ])\n",
    "predicted = numpy.array([ p.pred_avg for p in predictions ])\n",
    "\n",
    "fig, ax = subplots()\n",
    "ax.scatter(y, predicted, edgecolors=(0, 0, 0))\n",
    "ax.plot([y.min(), y.max()], [y.min(), y.max()], 'k--', lw=4)\n",
    "ax.set_xlabel('Measured')\n",
    "ax.set_ylabel('Predicted')\n",
    "show()"
   ]
  },
  {
   "cell_type": "code",
   "execution_count": null,
   "metadata": {},
   "outputs": [],
   "source": []
  }
 ],
 "metadata": {
  "kernelspec": {
   "display_name": "Python 3",
   "language": "python",
   "name": "python3"
  },
  "language_info": {
   "codemirror_mode": {
    "name": "ipython",
    "version": 3
   },
   "file_extension": ".py",
   "mimetype": "text/x-python",
   "name": "python",
   "nbconvert_exporter": "python",
   "pygments_lexer": "ipython3",
   "version": "3.8.8"
  }
 },
 "nbformat": 4,
 "nbformat_minor": 2
}
