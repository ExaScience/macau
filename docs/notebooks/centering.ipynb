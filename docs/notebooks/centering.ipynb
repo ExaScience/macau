{
 "cells": [
  {
   "cell_type": "markdown",
   "metadata": {},
   "source": [
    "## Centering \n",
    "\n",
    "In this notebook we look at why it is important to center your matrices before using them with SMURFF.\n",
    "\n",
    "SMURFF provides a function similar to [sklearn.preprocessing.scale](http://scikit-learn.org/stable/modules/generated/sklearn.preprocessing.scale.html) with the difference\n",
    "that SMURFF also supports scaling of sparse matrices. This makes sense only when the matrix is scarce, i.e. when the zero-elements represent unknown values. \n",
    "\n",
    "The Matrix Factorization methods are meant for modeling the variance in the data. Hence it makes sense to subtract the mean first."
   ]
  },
  {
   "cell_type": "code",
   "execution_count": null,
   "metadata": {},
   "outputs": [],
   "source": [
    "import smurff\n",
    "\n",
    "ic50_train, ic50_test, ecfp = smurff.load_chembl()\n",
    "\n",
    "ic50_train_centered, global_mean, _ = smurff.center_and_scale(ic50_train, \"global\", with_mean = True, with_std = False)\n",
    "\n",
    "ic50_test_centered = ic50_test\n",
    "ic50_test_centered.data -= global_mean # only touch non-zeros"
   ]
  },
  {
   "cell_type": "markdown",
   "metadata": {},
   "source": [
    "When we now run a SMURFF train trainSession, we can see from the `TrainSession` information, that the data has been centered:\n",
    "```\n",
    "PythonSession {\n",
    "  Data: {\n",
    "    Type: ScarceMatrixData [with NAs]\n",
    "    Component-wise mean: 3.86555e-16\n",
    "    ...    \n",
    "```"
   ]
  },
  {
   "cell_type": "code",
   "execution_count": null,
   "metadata": {},
   "outputs": [],
   "source": [
    "trainSession = smurff.BPMFSession(\n",
    "                       Ytrain     = ic50_train_centered,\n",
    "                       Ytest      = ic50_test,\n",
    "                       num_latent = 16,\n",
    "                       burnin     = 40,\n",
    "                       nsamples   = 200,\n",
    "                       verbose    = 1,)\n",
    "\n",
    "predictions = trainSession.run()\n",
    "rmse = smurff.calc_rmse(predictions)\n",
    "print(rmse)"
   ]
  }
 ],
 "metadata": {
  "kernelspec": {
   "display_name": "Python 3",
   "language": "python",
   "name": "python3"
  },
  "language_info": {
   "codemirror_mode": {
    "name": "ipython",
    "version": 3
   },
   "file_extension": ".py",
   "mimetype": "text/x-python",
   "name": "python",
   "nbconvert_exporter": "python",
   "pygments_lexer": "ipython3",
   "version": "3.6.5"
  }
 },
 "nbformat": 4,
 "nbformat_minor": 2
}
