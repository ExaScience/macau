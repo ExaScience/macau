{
 "cells": [
  {
   "cell_type": "markdown",
   "metadata": {},
   "source": [
    "# Out-of-matrix prediction using synthetic data\n",
    "\n",
    "In this notebook we illustrate how to do inference using sideinfo for rows, columns and both.  "
   ]
  },
  {
   "cell_type": "markdown",
   "metadata": {},
   "source": [
    "### Synthetic data generation"
   ]
  },
  {
   "cell_type": "code",
   "execution_count": null,
   "metadata": {},
   "outputs": [],
   "source": [
    "import smurff\n",
    "import logging\n",
    "logging.basicConfig(level = logging.INFO)\n",
    "\n",
    "import numpy as np\n",
    "import scipy.sparse as sp\n",
    "\n",
    "def gen_matrix(shape, num_latent, density = 1.0 ):\n",
    "    \"\"\"\n",
    "    Generate a  matrix by multipling two factors.\n",
    "    Sparsify if asked.\n",
    "    \"\"\"\n",
    "    X = np.random.normal(size=(shape[0],num_latent))\n",
    "    W = np.random.normal(size=(shape[1],num_latent))\n",
    "    Y = np.dot(X, W.transpose()) + np.random.normal(size=shape)\n",
    "    if density < 1.0:\n",
    "        Y = sp.coo_matrix(Y)\n",
    "        _, Y = smurff.make_train_test(Y, density)\n",
    "    return Y, X ,W"
   ]
  },
  {
   "cell_type": "markdown",
   "metadata": {},
   "source": [
    "### Train the model"
   ]
  },
  {
   "cell_type": "code",
   "execution_count": null,
   "metadata": {},
   "outputs": [],
   "source": [
    "Y, X, W = gen_matrix((20, 30), 2, 0.8)\n",
    "Ytrain, Ytest = smurff.make_train_test(Y, 0.1)"
   ]
  },
  {
   "cell_type": "code",
   "execution_count": null,
   "metadata": {},
   "outputs": [],
   "source": [
    "### train the model\n",
    "import os, shutil\n",
    "\n",
    "shutil.rmtree(\"syn-out-matrix-pred\")\n",
    "os.makedirs(\"syn-out-matrix-pred\")\n",
    "\n",
    "# use X and W as sideinfo\n",
    "session = smurff.MacauSession(\n",
    "                       Ytrain     = Ytrain,\n",
    "                       Ytest      = Ytest,\n",
    "                       side_info  = [X, W],\n",
    "                       direct     = True,\n",
    "                       num_latent = 4,\n",
    "                       burnin     = 40,\n",
    "                       nsamples   = 100,\n",
    "                       save_freq  = 1,\n",
    "                       save_name = \"syn-out-matrix-pred.hdf5\",\n",
    "                       verbose    = 1,)\n",
    "predictions = session.run()"
   ]
  },
  {
   "cell_type": "markdown",
   "metadata": {},
   "source": [
    "### Make a PredictSession"
   ]
  },
  {
   "cell_type": "code",
   "execution_count": null,
   "metadata": {},
   "outputs": [],
   "source": [
    "# predictor = smurff.PredictSession.fromRootFile(\"syn-out-matrix-pred/root.ini\")\n",
    "predictor = session.makePredictSession()\n",
    "print(predictor)"
   ]
  },
  {
   "cell_type": "markdown",
   "metadata": {},
   "source": [
    "### Out-of-matrix prediction using side-info for the rows"
   ]
  },
  {
   "cell_type": "code",
   "execution_count": null,
   "metadata": {},
   "outputs": [],
   "source": [
    "# predict with a single feature-vector and for one column with PredictSession.predict_one\n",
    "# return type: smurff.Prediction\n",
    "p = predictor.predict_one((X[0],0))\n",
    "print(p)"
   ]
  },
  {
   "cell_type": "code",
   "execution_count": null,
   "metadata": {},
   "outputs": [],
   "source": [
    "# predict with many feature-vectors in a np.ndarray and for all columns with PredictSession.predict\n",
    "# return type: numpy.ndarray\n",
    "p = predictor.predict((X,Ellipsis))\n",
    "print(p)"
   ]
  },
  {
   "cell_type": "code",
   "execution_count": null,
   "metadata": {},
   "outputs": [],
   "source": [
    "# predict with many feature-vectors in a np.ndarray and for a single columns with PredictSession.predict\n",
    "# return type: numpy.ndarray\n",
    "p = predictor.predict((X[1:5],10))\n",
    "print(p)"
   ]
  },
  {
   "cell_type": "markdown",
   "metadata": {},
   "source": [
    "### Out-of-matrix prediction using side-info for the columns"
   ]
  },
  {
   "cell_type": "code",
   "execution_count": null,
   "metadata": {},
   "outputs": [],
   "source": [
    "# predict with a single feature-vector and for one row with PredictSession.predict_one\n",
    "p = predictor.predict_one((0, W[0]))\n",
    "print(p.pred_avg)"
   ]
  },
  {
   "cell_type": "code",
   "execution_count": null,
   "metadata": {},
   "outputs": [],
   "source": [
    "# predict with many feature-vectors in a np.ndarray and for all rows with PredictSession.predict\n",
    "# return type: numpy.ndarray\n",
    "p = predictor.predict((Ellipsis, W))\n",
    "print(p)"
   ]
  },
  {
   "cell_type": "code",
   "execution_count": null,
   "metadata": {},
   "outputs": [],
   "source": [
    "# predict with many feature-vectors in a np.ndarray and for a single row with PredictSession.predict\n",
    "# return type: numpy.ndarray\n",
    "p = predictor.predict((10,W[1:5]))\n",
    "print(p)"
   ]
  },
  {
   "cell_type": "markdown",
   "metadata": {},
   "source": [
    "### Out-of-matrix prediction using side-info for rows and columns"
   ]
  },
  {
   "cell_type": "code",
   "execution_count": null,
   "metadata": {},
   "outputs": [],
   "source": [
    "# predict with a single feature-vector for the rows, and for the columns\n",
    "p = predictor.predict_one((X[0], W[0]))\n",
    "print(p.pred_avg)"
   ]
  },
  {
   "cell_type": "code",
   "execution_count": null,
   "metadata": {},
   "outputs": [],
   "source": [
    "# predict with many feature-vectors in a np.ndarray  PredictSession.predict\n",
    "# return type: numpy.ndarray\n",
    "p = predictor.predict((X, W))\n",
    "print(p)"
   ]
  },
  {
   "cell_type": "code",
   "execution_count": null,
   "metadata": {},
   "outputs": [],
   "source": [
    "# predict with many feature-vectors in a np.ndarray and for a single row with PredictSession.predict\n",
    "# return type: numpy.ndarray\n",
    "p = predictor.predict((X[1:4],W[1:5]))\n",
    "print(p)"
   ]
  },
  {
   "cell_type": "code",
   "execution_count": null,
   "metadata": {},
   "outputs": [],
   "source": []
  },
  {
   "cell_type": "code",
   "execution_count": null,
   "metadata": {},
   "outputs": [],
   "source": []
  },
  {
   "cell_type": "code",
   "execution_count": null,
   "metadata": {},
   "outputs": [],
   "source": []
  }
 ],
 "metadata": {
  "kernelspec": {
   "display_name": "Python 3",
   "language": "python",
   "name": "python3"
  },
  "language_info": {
   "codemirror_mode": {
    "name": "ipython",
    "version": 3
   },
   "file_extension": ".py",
   "mimetype": "text/x-python",
   "name": "python",
   "nbconvert_exporter": "python",
   "pygments_lexer": "ipython3",
   "version": "3.8.8"
  }
 },
 "nbformat": 4,
 "nbformat_minor": 2
}
