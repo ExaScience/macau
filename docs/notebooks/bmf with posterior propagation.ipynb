{
 "cells": [
  {
   "cell_type": "markdown",
   "metadata": {},
   "source": [
    "## BPMF using posterior propagation\n",
    "\n",
    "\n",
    "### Downloading the data files\n",
    "\n",
    "In these examples we use ChEMBL dataset for compound-proteins activities (IC50). The IC50 values and ECFP fingerprints can be downloaded using this smurff function:"
   ]
  },
  {
   "cell_type": "code",
   "execution_count": null,
   "metadata": {},
   "outputs": [],
   "source": [
    "import smurff\n",
    "\n",
    "ic50_train, ic50_test, ecfp = smurff.load_chembl()"
   ]
  },
  {
   "cell_type": "markdown",
   "metadata": {},
   "source": [
    "### Running SMURFF\n",
    "\n",
    "Finally we run make a BPMF training session and call `run`. The `run` function builds the model and\n",
    "returns the `predictions` of the test data."
   ]
  },
  {
   "cell_type": "code",
   "execution_count": null,
   "metadata": {
    "scrolled": true
   },
   "outputs": [],
   "source": [
    "session = smurff.BPMFSession(\n",
    "                       Ytrain     = ic50_train,\n",
    "                       Ytest      = ic50_test,\n",
    "                       num_latent = 16,\n",
    "                       burnin     = 40,\n",
    "                       nsamples   = 20,\n",
    "                       verbose    = 1,\n",
    "                       save_freq = 1,)\n",
    "\n",
    "session.run()"
   ]
  },
  {
   "cell_type": "code",
   "execution_count": null,
   "metadata": {},
   "outputs": [],
   "source": [
    "import numpy as np\n",
    "\n",
    "predict_session = session.makePredictSession()"
   ]
  },
  {
   "cell_type": "code",
   "execution_count": null,
   "metadata": {},
   "outputs": [],
   "source": [
    "# collect U for all samples\n",
    "Us = [ s.latents[0] for s in predict_session.samples() ]\n",
    "\n",
    "# stack them and compute mean\n",
    "Ustacked = np.stack(Us)\n",
    "mu = np.mean(Ustacked, axis = 0)\n",
    "\n",
    "# Compute covariance, first unstack in different way\n",
    "Uunstacked = np.squeeze(np.split(Ustacked, Ustacked.shape[2], axis = 2))\n",
    "Ucov = [ np.cov(u, rowvar = False) for u in Uunstacked ]\n",
    "# restack\n",
    "Ucovstacked = np.stack(Ucov, axis = 2)\n",
    "# reshape correctly\n",
    "Lambda = Ucovstacked.reshape(Ucovstacked.shape[0]*Ucovstacked.shape[1], Ucovstacked.shape[2])\n"
   ]
  },
  {
   "cell_type": "code",
   "execution_count": null,
   "metadata": {},
   "outputs": [],
   "source": [
    "session2 = smurff.BPMFSession(\n",
    "                       Ytrain     = ic50_train,\n",
    "                       Ytest      = ic50_test,\n",
    "                       num_latent = 16,\n",
    "                       burnin     = 40,\n",
    "                       nsamples   = 20,\n",
    "                       verbose    = 1,\n",
    "                       save_freq = 1,\n",
    "                       )\n",
    "session2.addPropagatedPosterior(0, mu, Lambda)\n",
    "predictions = session2.run()"
   ]
  },
  {
   "cell_type": "code",
   "execution_count": null,
   "metadata": {},
   "outputs": [],
   "source": []
  }
 ],
 "metadata": {
  "kernelspec": {
   "display_name": "Python 3",
   "language": "python",
   "name": "python3"
  },
  "language_info": {
   "codemirror_mode": {
    "name": "ipython",
    "version": 3
   },
   "file_extension": ".py",
   "mimetype": "text/x-python",
   "name": "python",
   "nbconvert_exporter": "python",
   "pygments_lexer": "ipython3",
   "version": "3.7.0"
  }
 },
 "nbformat": 4,
 "nbformat_minor": 2
}
