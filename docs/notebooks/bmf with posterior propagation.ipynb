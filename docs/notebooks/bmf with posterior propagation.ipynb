{
 "cells": [
  {
   "cell_type": "markdown",
   "metadata": {},
   "source": [
    "## BPMF using posterior propagation\n",
    "\n",
    "\n",
    "### Downloading the data files\n",
    "\n",
    "In these examples we use ChEMBL dataset for compound-proteins activities (IC50). The IC50 values and ECFP fingerprints can be downloaded using this smurff function:"
   ]
  },
  {
   "cell_type": "code",
   "execution_count": 1,
   "metadata": {},
   "outputs": [],
   "source": [
    "import smurff\n",
    "\n",
    "ic50_train, ic50_test, ecfp = smurff.load_chembl()"
   ]
  },
  {
   "cell_type": "markdown",
   "metadata": {},
   "source": [
    "### Running SMURFF\n",
    "\n",
    "Finally we run make a BPMF training session and call `run`. The `run` function builds the model and\n",
    "returns the `predictions` of the test data."
   ]
  },
  {
   "cell_type": "code",
   "execution_count": null,
   "metadata": {},
   "outputs": [
    {
     "name": "stdout",
     "output_type": "stream",
     "text": [
      "PythonSession {\n",
      "  Data: {\n",
      "    Type: ScarceMatrixData [with NAs]\n",
      "    Component-wise mean: 6.35272\n",
      "    Component-wise variance: 1.88772\n",
      "    Noise: Fixed gaussian noise with precision: 5.00\n",
      "    Size: 47424 [15073 x 346] (0.91%)\n",
      "      Warning: 76 empty rows\n",
      "      Warning: 5 empty cols\n",
      "  }\n",
      "  Model: {\n",
      "    Num-latents: 16\n",
      "  }\n",
      "  Priors: {\n",
      "    0: NormalPrior\n",
      "    1: NormalPrior\n",
      "  }\n",
      "  Result: {\n",
      "    Test data: 11856 [15073 x 346] (0.23%)\n",
      "  }\n",
      "  Config: {\n",
      "      Iterations: 40 burnin + 20 samples\n",
      "      Save model: every 1 iteration\n",
      "      Checkpoint state: every 1 seconds\n",
      "      Save prefix: /var/folders/d4/zbkxjlq94pq0523x6sd7v3mw0000gn/T/tmpeymfrr4g/\n",
      "      Save extension: .ddm\n",
      "  }\n",
      "}\n",
      "\n",
      "Initial:   0/0 RMSE: nan (1samp: nan) U: [ 0: 0.00,1: 0.00 ] took 0.0s\n",
      " Burnin:   1/40 RMSE: nan (1samp: 6.68) U: [ 0: 154.85,1: 115.05 ] took 0.1s\n",
      " Burnin:   2/40 RMSE: nan (1samp: 4.19) U: [ 0: 300.94,1: 124.48 ] took 0.1s\n",
      " Burnin:   3/40 RMSE: nan (1samp: 4.05) U: [ 0: 383.10,1: 122.45 ] took 0.1s\n",
      " Burnin:   4/40 RMSE: nan (1samp: 4.03) U: [ 0: 432.74,1: 118.89 ] took 0.1s\n",
      " Burnin:   5/40 RMSE: nan (1samp: 3.84) U: [ 0: 459.39,1: 113.48 ] took 0.1s\n",
      " Burnin:   6/40 RMSE: nan (1samp: 3.79) U: [ 0: 477.61,1: 108.98 ] took 0.1s\n",
      " Burnin:   7/40 RMSE: nan (1samp: 3.56) U: [ 0: 488.85,1: 105.12 ] took 0.1s\n",
      " Burnin:   8/40 RMSE: nan (1samp: 3.40) U: [ 0: 494.03,1: 101.85 ] took 0.1s\n",
      " Burnin:   9/40 RMSE: nan (1samp: 3.22) U: [ 0: 498.85,1: 98.15 ] took 0.1s\n",
      " Burnin:  10/40 RMSE: nan (1samp: 3.05) U: [ 0: 506.14,1: 94.68 ] took 0.1s\n",
      " Burnin:  11/40 RMSE: nan (1samp: 2.91) U: [ 0: 512.73,1: 90.92 ] took 0.1s\n",
      " Burnin:  12/40 RMSE: nan (1samp: 2.77) U: [ 0: 516.92,1: 88.46 ] took 0.1s\n",
      " Burnin:  13/40 RMSE: nan (1samp: 2.66) U: [ 0: 521.74,1: 84.89 ] took 0.1s\n"
     ]
    }
   ],
   "source": [
    "session = smurff.BPMFSession(\n",
    "                       Ytrain     = ic50_train,\n",
    "                       Ytest      = ic50_test,\n",
    "                       num_latent = 16,\n",
    "                       burnin     = 40,\n",
    "                       nsamples   = 20,\n",
    "                       verbose    = 1,\n",
    "                       checkpoint_freq = 1,\n",
    "                       save_freq = 1,)\n",
    "\n",
    "predictions = session.run()"
   ]
  },
  {
   "cell_type": "markdown",
   "metadata": {},
   "source": [
    "We can use the `calc_rmse` function to calculate the RMSE."
   ]
  },
  {
   "cell_type": "code",
   "execution_count": null,
   "metadata": {},
   "outputs": [],
   "source": [
    "rmse = smurff.calc_rmse(predictions)\n",
    "rmse"
   ]
  },
  {
   "cell_type": "markdown",
   "metadata": {},
   "source": [
    "### Plotting predictions versus actual values\n",
    "Next to RMSE, we can also plot the predicted versus the actual values, to see how well the model performs."
   ]
  },
  {
   "cell_type": "code",
   "execution_count": null,
   "metadata": {},
   "outputs": [],
   "source": [
    "%matplotlib notebook\n",
    "\n",
    "import numpy\n",
    "from matplotlib.pyplot import subplots, show\n",
    "\n",
    "y = numpy.array([ p.val for p in predictions ])\n",
    "predicted = numpy.array([ p.pred_avg for p in predictions ])\n",
    "\n",
    "fig, ax = subplots()\n",
    "ax.scatter(y, predicted, edgecolors=(0, 0, 0))\n",
    "ax.plot([y.min(), y.max()], [y.min(), y.max()], 'k--', lw=4)\n",
    "ax.set_xlabel('Measured')\n",
    "ax.set_ylabel('Predicted')\n",
    "show()"
   ]
  }
 ],
 "metadata": {
  "kernelspec": {
   "display_name": "Python 3",
   "language": "python",
   "name": "python3"
  },
  "language_info": {
   "codemirror_mode": {
    "name": "ipython",
    "version": 3
   },
   "file_extension": ".py",
   "mimetype": "text/x-python",
   "name": "python",
   "nbconvert_exporter": "python",
   "pygments_lexer": "ipython3",
   "version": "3.7.0"
  }
 },
 "nbformat": 4,
 "nbformat_minor": 2
}
