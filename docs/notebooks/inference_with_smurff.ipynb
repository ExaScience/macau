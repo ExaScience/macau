{
 "cells": [
  {
   "cell_type": "markdown",
   "metadata": {},
   "source": [
    "## Inference with SMURFF\n",
    "\n",
    "In this notebook we will continue on the first example. After running a training session again in SMURFF, we will look deeper into how to use SMURFF for making predictions.\n",
    "\n",
    "### Saving models\n",
    "\n",
    "First redo our training session as we did in the previous notebook. The RMSE should be the same as before. \n",
    "\n",
    "We make sure we *save every 10th sample*, such that we can load the model afterwards."
   ]
  },
  {
   "cell_type": "code",
   "execution_count": 1,
   "metadata": {},
   "outputs": [
    {
     "name": "stdout",
     "output_type": "stream",
     "text": [
      "PythonSession {\n",
      "  Data: {\n",
      "    Type: ScarceMatrixData [with NAs]\n",
      "    Component-wise mean: 6.35249\n",
      "    Component-wise variance: 1.8904\n",
      "    Noise: Fixed gaussian noise with precision: 5.00\n",
      "    Size: 47424 [15073 x 346] (0.91%)\n",
      "      Warning: 60 empty rows\n",
      "      Warning: 2 empty cols\n",
      "  }\n",
      "  Model: {\n",
      "    Num-latents: 16\n",
      "  }\n",
      "  Priors: {\n",
      "    0: MacauPrior\n",
      "     SideInfo: SparseDouble [15073, 105672]\n",
      "     Method: CG Solver\n",
      "     Tol: 0.00\n",
      "     BetaPrecision: 5.00\n",
      "    1: NormalPrior\n",
      "  }\n",
      "  Result: {\n",
      "    Test data: 11856 [15073 x 346] (0.23%)\n",
      "  }\n",
      "  Version: v0.12.2-4-gbf1370c\n",
      "  Iterations: 3 burnin + 10 samples\n",
      "  Save model: every 1 iteration\n",
      "  Save prefix: /Users/vanderaa/excape/smurff/docs/notebooks/ic50-macau-save\n",
      "  Save extension: .ddm\n",
      "}\n",
      "\n",
      "Initial:   0/0 RMSE: nan (1samp: nan) U: [ 0: 0.00,1: 0.00 ] took 0.0s\n",
      " Burnin:   1/3 RMSE: nan (1samp: 6.68) U: [ 0: 155.39,1: 115.09 ] took 2.0s\n",
      " Burnin:   2/3 RMSE: nan (1samp: 3.92) U: [ 0: 195.29,1: 146.91 ] took 2.0s\n",
      " Burnin:   3/3 RMSE: nan (1samp: 2.93) U: [ 0: 206.25,1: 150.04 ] took 2.0s\n",
      " Sample:   1/10 RMSE: 2.59 (1samp: 2.59) U: [ 0: 211.19,1: 149.39 ] took 2.0s\n",
      " Sample:   2/10 RMSE: 2.39 (1samp: 2.35) U: [ 0: 215.29,1: 150.85 ] took 2.0s\n",
      " Sample:   3/10 RMSE: 2.27 (1samp: 2.25) U: [ 0: 218.54,1: 148.55 ] took 2.0s\n",
      " Sample:   4/10 RMSE: 2.17 (1samp: 2.12) U: [ 0: 221.17,1: 147.32 ] took 2.0s\n",
      " Sample:   5/10 RMSE: 2.08 (1samp: 2.03) U: [ 0: 223.57,1: 144.12 ] took 2.0s\n",
      " Sample:   6/10 RMSE: 2.01 (1samp: 1.94) U: [ 0: 225.79,1: 142.82 ] took 2.0s\n",
      " Sample:   7/10 RMSE: 1.94 (1samp: 1.87) U: [ 0: 227.58,1: 140.28 ] took 2.0s\n",
      " Sample:   8/10 RMSE: 1.88 (1samp: 1.80) U: [ 0: 229.27,1: 139.09 ] took 3.0s\n",
      " Sample:   9/10 RMSE: 1.82 (1samp: 1.76) U: [ 0: 230.65,1: 137.86 ] took 2.0s\n",
      " Sample:  10/10 RMSE: 1.78 (1samp: 1.72) U: [ 0: 231.97,1: 138.32 ] took 2.0s\n"
     ]
    },
    {
     "data": {
      "text/plain": [
       "1.7758836755159668"
      ]
     },
     "execution_count": 1,
     "metadata": {},
     "output_type": "execute_result"
    }
   ],
   "source": [
    "import smurff\n",
    "\n",
    "ic50_train, ic50_test, ecfp = smurff.load_chembl()\n",
    "\n",
    "session = smurff.MacauSession(\n",
    "                       Ytrain     = ic50_train,\n",
    "                       Ytest      = ic50_test,\n",
    "                       side_info  = [ecfp, None],\n",
    "                       num_latent = 16,\n",
    "                       burnin     = 3,\n",
    "                       nsamples   = 10,\n",
    "                       save_freq  = 1,\n",
    "                    \n",
    "                       save_prefix= \"ic50-macau-save\",\n",
    "                       verbose    = 1,)\n",
    "\n",
    "predictions = session.run()\n",
    "\n",
    "rmse = smurff.calc_rmse(predictions)\n",
    "rmse"
   ]
  },
  {
   "cell_type": "markdown",
   "metadata": {},
   "source": [
    "### Saved files\n",
    "\n",
    "The saved files are indexed in a root ini-file, in this case the root ini-file will be `ic50-save-root.ini`.\n",
    "The content of this file lists all saved info for this training run. For example\n",
    "\n",
    "```ini\n",
    "options = ic50-save-options.ini\n",
    "sample_step_10 = ic50-save-sample-10-step.ini\n",
    "sample_step_20 = ic50-save-sample-20-step.ini\n",
    "sample_step_30 = ic50-save-sample-30-step.ini\n",
    "sample_step_40 = ic50-save-sample-40-step.ini\n",
    "```\n",
    "\n",
    "Each step ini-file contains the matrices saved in the step:\n",
    "\n",
    "```ini\n",
    "#models\n",
    "num_models = 2\n",
    "model_0 = ic50-save-sample-50-U0-latents.ddm\n",
    "model_1 = ic50-save-sample-50-U1-latents.ddm\n",
    "#predictions\n",
    "pred = ic50-save-sample-50-predictions.csv\n",
    "pred_state = ic50-save-sample-50-predictions-state.ini\n",
    "#priors\n",
    "num_priors = 2\n",
    "prior_0 = ic50-save-sample-50-F0-link.ddm\n",
    "prior_1 = ic50-save-sample-50-F1-link.ddm\n",
    "```"
   ]
  },
  {
   "cell_type": "markdown",
   "metadata": {},
   "source": [
    "### Making  predictions from a `TrainSession`\n",
    "\n",
    "The easiest way to make predictions is from an existing `TrainSession`:"
   ]
  },
  {
   "cell_type": "code",
   "execution_count": 2,
   "metadata": {},
   "outputs": [
    {
     "name": "stdout",
     "output_type": "stream",
     "text": [
      "PredictSession with 10 samples\n",
      "  Data shape = [15073, 346]\n",
      "  Beta shape = [105672, 0]\n",
      "  Num latent = 16\n"
     ]
    }
   ],
   "source": [
    "predictor = session.makePredictSession()\n",
    "print(predictor)"
   ]
  },
  {
   "cell_type": "markdown",
   "metadata": {},
   "source": [
    "We can make predictions for all rows $\\times$ columns in our matrix"
   ]
  },
  {
   "cell_type": "code",
   "execution_count": 3,
   "metadata": {},
   "outputs": [
    {
     "name": "stdout",
     "output_type": "stream",
     "text": [
      "(10, 15073, 346)\n"
     ]
    }
   ],
   "source": [
    "p = predictor.predict_all()\n",
    "print(p.shape) # p is a numpy array of size (num samples) x (num rows) x (num columns)"
   ]
  },
  {
   "cell_type": "markdown",
   "metadata": {},
   "source": [
    "We can make predictions for a sparse matrix, for example our `ic50_test` matrix:"
   ]
  },
  {
   "cell_type": "code",
   "execution_count": 4,
   "metadata": {},
   "outputs": [
    {
     "name": "stderr",
     "output_type": "stream",
     "text": [
      "IOPub data rate exceeded.\n",
      "The notebook server will temporarily stop sending output\n",
      "to the client in order to avoid crashing it.\n",
      "To change this limit, set the config variable\n",
      "`--NotebookApp.iopub_data_rate_limit`.\n",
      "\n",
      "Current values:\n",
      "NotebookApp.iopub_data_rate_limit=1000000.0 (bytes/sec)\n",
      "NotebookApp.rate_limit_window=3.0 (secs)\n",
      "\n"
     ]
    }
   ],
   "source": [
    "p = predictor.predict_some(ic50_test)\n",
    "print(p) # p is a list of Predictions"
   ]
  },
  {
   "cell_type": "markdown",
   "metadata": {},
   "source": [
    "Or just one element. Let's predict the first element of our `ic50_test` matrix:"
   ]
  },
  {
   "cell_type": "code",
   "execution_count": 5,
   "metadata": {},
   "outputs": [
    {
     "name": "stdout",
     "output_type": "stream",
     "text": [
      "(2022, 0): 5.13 | 1sample: 6.63 | avg: 5.48 | var: 18.88 | all: [4.200723401224326, 4.239695796200487, 4.04360597336076, 5.32252460080845, 4.240025640719563, 5.627861543249392, 8.70240573433194, 5.948754190940086, 5.831316935062596, 6.631742195909725] \n"
     ]
    }
   ],
   "source": [
    "from scipy.sparse import find\n",
    "(i,j,v) = find(ic50_test)\n",
    "p = predictor.predict_one((i[0],j[0]),v[0])\n",
    "print(p)"
   ]
  },
  {
   "cell_type": "markdown",
   "metadata": {},
   "source": [
    "And plot the histogram of predictions for this element."
   ]
  },
  {
   "cell_type": "code",
   "execution_count": 6,
   "metadata": {},
   "outputs": [
    {
     "data": {
      "image/png": "[encoded data removed]",
      "text/plain": [
       "<Figure size 432x288 with 1 Axes>"
      ]
     },
     "metadata": {},
     "output_type": "display_data"
    }
   ],
   "source": [
    "%matplotlib inline\n",
    "import matplotlib.pyplot as plt\n",
    "\n",
    "# Plot a histogram of the samples.\n",
    "plt.subplot(111)\n",
    "plt.hist(p.pred_all, bins=10, density=True, label = \"predictions's histogram\")\n",
    "plt.plot(p.val, 1., 'ro', markersize =5, label = 'actual value')\n",
    "plt.legend()\n",
    "plt.title('Histogram of ' + str(len(p.pred_all)) + ' predictions')\n",
    "plt.show()"
   ]
  },
  {
   "cell_type": "markdown",
   "metadata": {},
   "source": [
    "### Accessing the saved model itself\n",
    "\n",
    "The latents matrices for all samples are stored in the `PredictSession` as `numpy` arrays"
   ]
  },
  {
   "cell_type": "code",
   "execution_count": 7,
   "metadata": {},
   "outputs": [
    {
     "name": "stdout",
     "output_type": "stream",
     "text": [
      "[(16, 15073), (16, 346)]\n"
     ]
    }
   ],
   "source": [
    "# print the U matrices for the last sampling step\n",
    "print([ u.shape for u in predictor.steps[-1].Us ])"
   ]
  },
  {
   "cell_type": "markdown",
   "metadata": {},
   "source": [
    "### Making predictions from saved run\n",
    "\n",
    "One can also make a `PredictSession` from a save root ini-file:"
   ]
  },
  {
   "cell_type": "code",
   "execution_count": 8,
   "metadata": {},
   "outputs": [
    {
     "name": "stdout",
     "output_type": "stream",
     "text": [
      "PredictSession with 10 samples\n",
      "  Data shape = [15073, 346]\n",
      "  Beta shape = [105672, 0]\n",
      "  Num latent = 16\n"
     ]
    }
   ],
   "source": [
    "import smurff\n",
    "\n",
    "predictor = smurff.PredictSession.fromRootFile(\"ic50-macau-save-root.ini\")\n",
    "print(predictor)"
   ]
  },
  {
   "cell_type": "code",
   "execution_count": null,
   "metadata": {},
   "outputs": [],
   "source": []
  }
 ],
 "metadata": {
  "kernelspec": {
   "display_name": "Python 3",
   "language": "python",
   "name": "python3"
  },
  "language_info": {
   "codemirror_mode": {
    "name": "ipython",
    "version": 3
   },
   "file_extension": ".py",
   "mimetype": "text/x-python",
   "name": "python",
   "nbconvert_exporter": "python",
   "pygments_lexer": "ipython3",
   "version": "3.6.5"
  }
 },
 "nbformat": 4,
 "nbformat_minor": 2
}
