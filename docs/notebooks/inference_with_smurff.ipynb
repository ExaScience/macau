{
 "cells": [
  {
   "cell_type": "markdown",
   "metadata": {},
   "source": [
    "## Inference with SMURFF\n",
    "\n",
    "In this notebook we will continue on the first example. After running a training trainSession again in SMURFF, we will look deeper into how to use SMURFF for making predictions. The full Python API for predictions is available in [Python API Reference » Inference](../api/inference.html).\n",
    "\n",
    "To make predictions we recall that the value of a tensor model is given by a tensor contraction of all latent matrices. Specifically, the prediction for the element $\\hat{Y}_{ijk}$ of a rank-3 tensor is given by\n",
    "\n",
    "$$   \\hat{Y}_{ijk} = \\sum_{d=1}^D u^{(1)}_{d,i} u^{(2)}_{d,j} u^{(3)}_{d,k} + mean $$\n",
    "\n",
    "Since a matrix is a rank-2 tensor the prediction for a matrix is given by:\n",
    "\n",
    "$$   \\hat{Y}_{ij} = \\sum_{d=1}^D u^{(1)}_{d,i} u^{(2)}_{d,j} + mean $$\n",
    "\n",
    "These inner products are computed by SMURFF automagicaly, as we will see below.\n",
    "\n",
    "### Saving models\n",
    "\n",
    "We run a `Macau` training trainSession using side information (`ecfp`) from the chembl dataset.\n",
    "We make sure we *save every 10th sample*, such that we can load the model afterwards. This run will take some minutes to run."
   ]
  },
  {
   "cell_type": "code",
   "execution_count": 1,
   "metadata": {},
   "outputs": [],
   "source": [
    "import smurff\n",
    "import os\n",
    "import logging\n",
    "\n",
    "ic50_train, ic50_test, ecfp = smurff.load_chembl()\n",
    "\n",
    "# limit to 100 rows and 100 features to make thinks go faster\n",
    "ic50_train = ic50_train.tocsr()[:100,:]\n",
    "ic50_test = ic50_test.tocsr()[:100,:]\n",
    "ecfp = ecfp.tocsr()[:100,:].tocsc()[:,:100]\n",
    "\n",
    "trainSession = smurff.MacauSession(\n",
    "                       Ytrain     = ic50_train,\n",
    "                       Ytest      = ic50_test,\n",
    "                       side_info  = [ecfp, None],\n",
    "                       num_latent = 16,\n",
    "                       burnin     = 200,\n",
    "                       nsamples   = 100,\n",
    "                       save_freq  = 10,\n",
    "                       save_name  = \"ic50-macau.hdf5\",\n",
    "                       verbose    = 2,)\n",
    "\n",
    "predictions = trainSession.run()"
   ]
  },
  {
   "cell_type": "markdown",
   "metadata": {},
   "source": [
    "### Saved Model\n",
    "\n",
    "The model is saved in an HDF5 file, in this case `ic50-macau.hdf5`.\n",
    "The file contains all saved info from this training run. For example:"
   ]
  },
  {
   "cell_type": "code",
   "execution_count": 2,
   "metadata": {},
   "outputs": [
    {
     "name": "stdout",
     "output_type": "stream",
     "text": [
      "/                        Group\n",
      "/config                  Group\n",
      "/config/options          Group\n",
      "/config/side_info_0      Group\n",
      "/config/side_info_0/data Group\n",
      "/config/side_info_0/data/data Dataset {10}\n",
      "/config/side_info_0/data/indices Dataset {10}\n",
      "/config/side_info_0/data/indptr Dataset {101}\n",
      "/config/test             Group\n",
      "/config/test/data        Group\n",
      "/config/test/data/data   Dataset {78}\n",
      "/config/test/data/indices Dataset {78}\n",
      "/config/test/data/indptr Dataset {101}\n",
      "/config/train            Group\n",
      "/config/train/data       Group\n",
      "/config/train/data/data  Dataset {336}\n",
      "/config/train/data/indices Dataset {336}\n",
      "/config/train/data/indptr Dataset {101}\n",
      "/sample_10               Group\n",
      "/sample_10/latents       Group\n",
      "/sample_10/latents/latents_0 Dataset {100, 16}\n",
      "/sample_10/latents/latents_1 Dataset {346, 16}\n",
      "/sample_10/link_matrices Group\n",
      "/sample_10/link_matrices/link_matrix_0 Dataset {100, 16}\n",
      "/sample_10/link_matrices/link_matrix_1 Dataset {0, 0}\n",
      "/sample_10/link_matrices/mu_0 Dataset {1, 16}\n",
      "/sample_10/link_matrices/mu_1 Dataset {1, 16}\n",
      "/sample_10/predictions   Group\n",
      "/sample_10/predictions/pred_1sample Group\n",
      "/sample_10/predictions/pred_1sample/data Dataset {78}\n",
      "/sample_10/predictions/pred_1sample/indices Dataset {78}\n",
      "/sample_10/predictions/pred_1sample/indptr Dataset {101}\n",
      "/sample_10/predictions/pred_avg Group\n",
      "/sample_10/predictions/pred_avg/data Dataset {78}\n",
      "/sample_10/predictions/pred_avg/indices Dataset {78}\n",
      "/sample_10/predictions/pred_avg/indptr Dataset {101}\n",
      "/sample_10/predictions/pred_var Group\n",
      "/sample_10/predictions/pred_var/data Dataset {78}\n",
      "/sample_10/predictions/pred_var/indices Dataset {78}\n",
      "/sample_10/predictions/pred_var/indptr Dataset {101}\n",
      "/sample_100              Group\n",
      "/sample_100/latents      Group\n",
      "/sample_100/latents/latents_0 Dataset {100, 16}\n",
      "/sample_100/latents/latents_1 Dataset {346, 16}\n",
      "/sample_100/latents/post_lambda_0 Dataset {100, 256}\n",
      "/sample_100/latents/post_lambda_1 Dataset {346, 256}\n",
      "/sample_100/latents/post_mu_0 Dataset {100, 16}\n",
      "/sample_100/latents/post_mu_1 Dataset {346, 16}\n",
      "/sample_100/link_matrices Group\n",
      "/sample_100/link_matrices/link_matrix_0 Dataset {100, 16}\n",
      "/sample_100/link_matrices/link_matrix_1 Dataset {0, 0}\n",
      "/sample_100/link_matrices/mu_0 Dataset {1, 16}\n",
      "/sample_100/link_matrices/mu_1 Dataset {1, 16}\n",
      "/sample_100/predictions  Group\n",
      "/sample_100/predictions/pred_1sample Group\n",
      "/sample_100/predictions/pred_1sample/data Dataset {78}\n",
      "/sample_100/predictions/pred_1sample/indices Dataset {78}\n",
      "/sample_100/predictions/pred_1sample/indptr Dataset {101}\n",
      "/sample_100/predictions/pred_avg Group\n",
      "/sample_100/predictions/pred_avg/data Dataset {78}\n",
      "/sample_100/predictions/pred_avg/indices Dataset {78}\n",
      "/sample_100/predictions/pred_avg/indptr Dataset {101}\n",
      "/sample_100/predictions/pred_var Group\n",
      "/sample_100/predictions/pred_var/data Dataset {78}\n",
      "/sample_100/predictions/pred_var/indices Dataset {78}\n",
      "/sample_100/predictions/pred_var/indptr Dataset {101}\n",
      "/sample_20               Group\n",
      "/sample_20/latents       Group\n",
      "/sample_20/latents/latents_0 Dataset {100, 16}\n",
      "/sample_20/latents/latents_1 Dataset {346, 16}\n",
      "/sample_20/link_matrices Group\n",
      "/sample_20/link_matrices/link_matrix_0 Dataset {100, 16}\n",
      "/sample_20/link_matrices/link_matrix_1 Dataset {0, 0}\n",
      "/sample_20/link_matrices/mu_0 Dataset {1, 16}\n",
      "/sample_20/link_matrices/mu_1 Dataset {1, 16}\n",
      "/sample_20/predictions   Group\n",
      "/sample_20/predictions/pred_1sample Group\n",
      "/sample_20/predictions/pred_1sample/data Dataset {78}\n",
      "/sample_20/predictions/pred_1sample/indices Dataset {78}\n",
      "/sample_20/predictions/pred_1sample/indptr Dataset {101}\n",
      "/sample_20/predictions/pred_avg Group\n",
      "/sample_20/predictions/pred_avg/data Dataset {78}\n",
      "/sample_20/predictions/pred_avg/indices Dataset {78}\n",
      "/sample_20/predictions/pred_avg/indptr Dataset {101}\n",
      "/sample_20/predictions/pred_var Group\n",
      "/sample_20/predictions/pred_var/data Dataset {78}\n",
      "/sample_20/predictions/pred_var/indices Dataset {78}\n",
      "/sample_20/predictions/pred_var/indptr Dataset {101}\n",
      "/sample_30               Group\n",
      "/sample_30/latents       Group\n",
      "/sample_30/latents/latents_0 Dataset {100, 16}\n",
      "/sample_30/latents/latents_1 Dataset {346, 16}\n",
      "/sample_30/link_matrices Group\n",
      "/sample_30/link_matrices/link_matrix_0 Dataset {100, 16}\n",
      "/sample_30/link_matrices/link_matrix_1 Dataset {0, 0}\n",
      "/sample_30/link_matrices/mu_0 Dataset {1, 16}\n",
      "/sample_30/link_matrices/mu_1 Dataset {1, 16}\n",
      "/sample_30/predictions   Group\n",
      "/sample_30/predictions/pred_1sample Group\n",
      "/sample_30/predictions/pred_1sample/data Dataset {78}\n",
      "/sample_30/predictions/pred_1sample/indices Dataset {78}\n",
      "/sample_30/predictions/pred_1sample/indptr Dataset {101}\n",
      "/sample_30/predictions/pred_avg Group\n",
      "/sample_30/predictions/pred_avg/data Dataset {78}\n",
      "/sample_30/predictions/pred_avg/indices Dataset {78}\n",
      "/sample_30/predictions/pred_avg/indptr Dataset {101}\n",
      "/sample_30/predictions/pred_var Group\n",
      "/sample_30/predictions/pred_var/data Dataset {78}\n",
      "/sample_30/predictions/pred_var/indices Dataset {78}\n",
      "/sample_30/predictions/pred_var/indptr Dataset {101}\n",
      "/sample_40               Group\n",
      "/sample_40/latents       Group\n",
      "/sample_40/latents/latents_0 Dataset {100, 16}\n",
      "/sample_40/latents/latents_1 Dataset {346, 16}\n",
      "/sample_40/link_matrices Group\n",
      "/sample_40/link_matrices/link_matrix_0 Dataset {100, 16}\n",
      "/sample_40/link_matrices/link_matrix_1 Dataset {0, 0}\n",
      "/sample_40/link_matrices/mu_0 Dataset {1, 16}\n",
      "/sample_40/link_matrices/mu_1 Dataset {1, 16}\n",
      "/sample_40/predictions   Group\n",
      "/sample_40/predictions/pred_1sample Group\n",
      "/sample_40/predictions/pred_1sample/data Dataset {78}\n",
      "/sample_40/predictions/pred_1sample/indices Dataset {78}\n",
      "/sample_40/predictions/pred_1sample/indptr Dataset {101}\n",
      "/sample_40/predictions/pred_avg Group\n",
      "/sample_40/predictions/pred_avg/data Dataset {78}\n",
      "/sample_40/predictions/pred_avg/indices Dataset {78}\n",
      "/sample_40/predictions/pred_avg/indptr Dataset {101}\n",
      "/sample_40/predictions/pred_var Group\n",
      "/sample_40/predictions/pred_var/data Dataset {78}\n",
      "/sample_40/predictions/pred_var/indices Dataset {78}\n",
      "/sample_40/predictions/pred_var/indptr Dataset {101}\n",
      "/sample_50               Group\n",
      "/sample_50/latents       Group\n",
      "/sample_50/latents/latents_0 Dataset {100, 16}\n",
      "/sample_50/latents/latents_1 Dataset {346, 16}\n",
      "/sample_50/link_matrices Group\n",
      "/sample_50/link_matrices/link_matrix_0 Dataset {100, 16}\n",
      "/sample_50/link_matrices/link_matrix_1 Dataset {0, 0}\n",
      "/sample_50/link_matrices/mu_0 Dataset {1, 16}\n",
      "/sample_50/link_matrices/mu_1 Dataset {1, 16}\n",
      "/sample_50/predictions   Group\n",
      "/sample_50/predictions/pred_1sample Group\n",
      "/sample_50/predictions/pred_1sample/data Dataset {78}\n",
      "/sample_50/predictions/pred_1sample/indices Dataset {78}\n",
      "/sample_50/predictions/pred_1sample/indptr Dataset {101}\n",
      "/sample_50/predictions/pred_avg Group\n",
      "/sample_50/predictions/pred_avg/data Dataset {78}\n",
      "/sample_50/predictions/pred_avg/indices Dataset {78}\n",
      "/sample_50/predictions/pred_avg/indptr Dataset {101}\n",
      "/sample_50/predictions/pred_var Group\n",
      "/sample_50/predictions/pred_var/data Dataset {78}\n",
      "/sample_50/predictions/pred_var/indices Dataset {78}\n",
      "/sample_50/predictions/pred_var/indptr Dataset {101}\n",
      "/sample_60               Group\n",
      "/sample_60/latents       Group\n",
      "/sample_60/latents/latents_0 Dataset {100, 16}\n",
      "/sample_60/latents/latents_1 Dataset {346, 16}\n",
      "/sample_60/link_matrices Group\n",
      "/sample_60/link_matrices/link_matrix_0 Dataset {100, 16}\n",
      "/sample_60/link_matrices/link_matrix_1 Dataset {0, 0}\n",
      "/sample_60/link_matrices/mu_0 Dataset {1, 16}\n",
      "/sample_60/link_matrices/mu_1 Dataset {1, 16}\n",
      "/sample_60/predictions   Group\n",
      "/sample_60/predictions/pred_1sample Group\n",
      "/sample_60/predictions/pred_1sample/data Dataset {78}\n",
      "/sample_60/predictions/pred_1sample/indices Dataset {78}\n",
      "/sample_60/predictions/pred_1sample/indptr Dataset {101}\n",
      "/sample_60/predictions/pred_avg Group\n",
      "/sample_60/predictions/pred_avg/data Dataset {78}\n",
      "/sample_60/predictions/pred_avg/indices Dataset {78}\n",
      "/sample_60/predictions/pred_avg/indptr Dataset {101}\n",
      "/sample_60/predictions/pred_var Group\n",
      "/sample_60/predictions/pred_var/data Dataset {78}\n",
      "/sample_60/predictions/pred_var/indices Dataset {78}\n",
      "/sample_60/predictions/pred_var/indptr Dataset {101}\n",
      "/sample_70               Group\n",
      "/sample_70/latents       Group\n",
      "/sample_70/latents/latents_0 Dataset {100, 16}\n",
      "/sample_70/latents/latents_1 Dataset {346, 16}\n",
      "/sample_70/link_matrices Group\n",
      "/sample_70/link_matrices/link_matrix_0 Dataset {100, 16}\n",
      "/sample_70/link_matrices/link_matrix_1 Dataset {0, 0}\n",
      "/sample_70/link_matrices/mu_0 Dataset {1, 16}\n",
      "/sample_70/link_matrices/mu_1 Dataset {1, 16}\n",
      "/sample_70/predictions   Group\n",
      "/sample_70/predictions/pred_1sample Group\n",
      "/sample_70/predictions/pred_1sample/data Dataset {78}\n",
      "/sample_70/predictions/pred_1sample/indices Dataset {78}\n",
      "/sample_70/predictions/pred_1sample/indptr Dataset {101}\n",
      "/sample_70/predictions/pred_avg Group\n",
      "/sample_70/predictions/pred_avg/data Dataset {78}\n",
      "/sample_70/predictions/pred_avg/indices Dataset {78}\n",
      "/sample_70/predictions/pred_avg/indptr Dataset {101}\n",
      "/sample_70/predictions/pred_var Group\n",
      "/sample_70/predictions/pred_var/data Dataset {78}\n",
      "/sample_70/predictions/pred_var/indices Dataset {78}\n",
      "/sample_70/predictions/pred_var/indptr Dataset {101}\n",
      "/sample_80               Group\n",
      "/sample_80/latents       Group\n",
      "/sample_80/latents/latents_0 Dataset {100, 16}\n",
      "/sample_80/latents/latents_1 Dataset {346, 16}\n",
      "/sample_80/link_matrices Group\n",
      "/sample_80/link_matrices/link_matrix_0 Dataset {100, 16}\n",
      "/sample_80/link_matrices/link_matrix_1 Dataset {0, 0}\n",
      "/sample_80/link_matrices/mu_0 Dataset {1, 16}\n",
      "/sample_80/link_matrices/mu_1 Dataset {1, 16}\n",
      "/sample_80/predictions   Group\n",
      "/sample_80/predictions/pred_1sample Group\n",
      "/sample_80/predictions/pred_1sample/data Dataset {78}\n",
      "/sample_80/predictions/pred_1sample/indices Dataset {78}\n",
      "/sample_80/predictions/pred_1sample/indptr Dataset {101}\n",
      "/sample_80/predictions/pred_avg Group\n",
      "/sample_80/predictions/pred_avg/data Dataset {78}\n",
      "/sample_80/predictions/pred_avg/indices Dataset {78}\n",
      "/sample_80/predictions/pred_avg/indptr Dataset {101}\n",
      "/sample_80/predictions/pred_var Group\n",
      "/sample_80/predictions/pred_var/data Dataset {78}\n",
      "/sample_80/predictions/pred_var/indices Dataset {78}\n",
      "/sample_80/predictions/pred_var/indptr Dataset {101}\n",
      "/sample_90               Group\n",
      "/sample_90/latents       Group\n",
      "/sample_90/latents/latents_0 Dataset {100, 16}\n",
      "/sample_90/latents/latents_1 Dataset {346, 16}\n",
      "/sample_90/link_matrices Group\n",
      "/sample_90/link_matrices/link_matrix_0 Dataset {100, 16}\n",
      "/sample_90/link_matrices/link_matrix_1 Dataset {0, 0}\n",
      "/sample_90/link_matrices/mu_0 Dataset {1, 16}\n",
      "/sample_90/link_matrices/mu_1 Dataset {1, 16}\n",
      "/sample_90/predictions   Group\n",
      "/sample_90/predictions/pred_1sample Group\n",
      "/sample_90/predictions/pred_1sample/data Dataset {78}\n",
      "/sample_90/predictions/pred_1sample/indices Dataset {78}\n",
      "/sample_90/predictions/pred_1sample/indptr Dataset {101}\n",
      "/sample_90/predictions/pred_avg Group\n",
      "/sample_90/predictions/pred_avg/data Dataset {78}\n",
      "/sample_90/predictions/pred_avg/indices Dataset {78}\n",
      "/sample_90/predictions/pred_avg/indptr Dataset {101}\n",
      "/sample_90/predictions/pred_var Group\n",
      "/sample_90/predictions/pred_var/data Dataset {78}\n",
      "/sample_90/predictions/pred_var/indices Dataset {78}\n",
      "/sample_90/predictions/pred_var/indptr Dataset {101}\n"
     ]
    }
   ],
   "source": [
    "%%bash\n",
    "\n",
    "h5ls -r ic50-macau.hdf5"
   ]
  },
  {
   "cell_type": "markdown",
   "metadata": {},
   "source": [
    "The structure of the HDF5 file is:\n",
    "\n",
    "- Datasets in `/config` contain the input data and configuration provided to the `TrainSession`\n",
    "- The different `/sample_*` datasets contain for each posterior sample:\n",
    "  - Predictions for the provided test matrix:\n",
    "    - `predictions/pred_1sample`: Predictions from this sample\n",
    "    - `predictions/pred_avg`: Predictions average across this and all previous samples\n",
    "    - `predictions/pred_var`: Predictions variance across this and all previous samples\n",
    "  - `latents_*`: Latent samples for each dimension\n",
    "  - `link_matrices/`: When sideinfo is used with the `MacauPrior`, this HDF5 group contains the ß link \n",
    "     matrix, and the µ HyperPrior sample. This will allow to make predictions from unseen sideinfo.\n",
    "\n",
    "Sparse matrices and tensors are stored using the [h5sparse-tensor Python package](https://pypi.org/project/h5sparse-tensor/) which is automatically installed as a dependency of smurff.\n"
   ]
  },
  {
   "cell_type": "markdown",
   "metadata": {},
   "source": [
    "### Making  predictions from a `TrainSession`\n",
    "\n",
    "The easiest way to make predictions is from an existing `TrainSession`:"
   ]
  },
  {
   "cell_type": "code",
   "execution_count": 3,
   "metadata": {},
   "outputs": [
    {
     "name": "stdout",
     "output_type": "stream",
     "text": [
      "PredictSession with 10 samples\n",
      "  Data shape = (100, 346)\n",
      "  Beta shape = [100, 0]\n",
      "  Num latent = 16\n"
     ]
    }
   ],
   "source": [
    "predictor = trainSession.makePredictSession()\n",
    "print(predictor)"
   ]
  },
  {
   "cell_type": "markdown",
   "metadata": {},
   "source": [
    "\n",
    "Once we have a `PredictSession`, there are serveral ways to make predictions:\n",
    "\n",
    " * From a sparse matrix\n",
    " * For all possible elements in the matrix (the complete $U \\times V$)\n",
    " * For a single point in the matrix\n",
    " * Using only side-information\n",
    " \n",
    "#### Predict all elements\n",
    "\n",
    "We can make predictions for all rows $\\times$ columns in our matrix"
   ]
  },
  {
   "cell_type": "code",
   "execution_count": 4,
   "metadata": {},
   "outputs": [
    {
     "name": "stdout",
     "output_type": "stream",
     "text": [
      "(10, 100, 346)\n"
     ]
    }
   ],
   "source": [
    "p = predictor.predict_all()\n",
    "print(p.shape) # p is a numpy array of size: (num samples) x (num rows) x (num columns)"
   ]
  },
  {
   "cell_type": "markdown",
   "metadata": {},
   "source": [
    "#### Predict element in a sparse matrix\n",
    "We can make predictions for a sparse matrix, for example our `ic50_test` matrix:"
   ]
  },
  {
   "cell_type": "code",
   "execution_count": 5,
   "metadata": {},
   "outputs": [
    {
     "name": "stdout",
     "output_type": "stream",
     "text": [
      "78 predictions\n",
      "predictions 1: (45, 25): 5.23 | 1sample: 5.38 | avg: 4.68 | var: 10.27 | all: [5.466994278657815, 3.556934172336413, 4.37329279469418, 4.558447762178166, 5.518760768949337, 6.568628742127763, 3.8535251055402338, 3.001246710033499, 4.55148513380182, 5.383614751396357] \n"
     ]
    }
   ],
   "source": [
    "p = predictor.predict_some(ic50_test)\n",
    "print(len(p),\"predictions\") # p is a list of Predictions\n",
    "print(\"predictions 1:\", p[0])"
   ]
  },
  {
   "cell_type": "markdown",
   "metadata": {},
   "source": [
    "#### Predict just one element\n",
    "\n",
    "Or just one element. Let's predict the first element of our `ic50_test` matrix:"
   ]
  },
  {
   "cell_type": "code",
   "execution_count": 6,
   "metadata": {},
   "outputs": [
    {
     "name": "stdout",
     "output_type": "stream",
     "text": [
      "(45, 25): 5.23 | 1sample: 5.38 | avg: 4.68 | var: 10.27 | all: [5.466994278657815, 3.556934172336413, 4.37329279469418, 4.558447762178166, 5.518760768949337, 6.568628742127763, 3.8535251055402338, 3.001246710033499, 4.55148513380182, 5.383614751396357] \n"
     ]
    }
   ],
   "source": [
    "from scipy.sparse import find\n",
    "(i,j,v) = find(ic50_test)\n",
    "p = predictor.predict_one((i[0],j[0]),v[0])\n",
    "print(p)"
   ]
  },
  {
   "cell_type": "markdown",
   "metadata": {},
   "source": [
    "And plot the histogram of predictions for this element."
   ]
  },
  {
   "cell_type": "code",
   "execution_count": 7,
   "metadata": {},
   "outputs": [
    {
     "data": {
      "image/png": "[encoded data removed]",
      "text/plain": [
       "<Figure size 432x288 with 1 Axes>"
      ]
     },
     "metadata": {
      "needs_background": "light"
     },
     "output_type": "display_data"
    }
   ],
   "source": [
    "%matplotlib inline\n",
    "import matplotlib.pyplot as plt\n",
    "\n",
    "# Plot a histogram of the samples.\n",
    "plt.subplot(111)\n",
    "plt.hist(p.pred_all, bins=10, density=True, label = \"predictions's histogram\")\n",
    "plt.plot(p.val, 1., 'ro', markersize =5, label = 'actual value')\n",
    "plt.legend()\n",
    "plt.title('Histogram of ' + str(len(p.pred_all)) + ' predictions')\n",
    "plt.show()"
   ]
  },
  {
   "cell_type": "markdown",
   "metadata": {},
   "source": [
    "#### Make predictions using side information\n",
    "\n",
    "We can make predictions for rows/columns not in our train matrix, using only side info:"
   ]
  },
  {
   "cell_type": "code",
   "execution_count": 8,
   "metadata": {},
   "outputs": [
    {
     "name": "stdout",
     "output_type": "stream",
     "text": [
      "(<1x100 sparse matrix of type '<class 'numpy.float64'>'\n",
      "\twith 0 stored elements in Compressed Sparse Row format>, 25): 5.23 | 1sample: 5.70 | avg: 5.24 | var: 5.97 | all: [5.647882865944923, 4.766097758946924, 4.938653156555175, 5.266514371433109, 5.774834514927121, 6.55942247076019, 4.685191103644728, 3.55286488638509, 5.552266183626731, 5.697722460389924] \n"
     ]
    }
   ],
   "source": [
    "import numpy as np\n",
    "from scipy.sparse import find\n",
    "\n",
    "(i,j,v) = find(ic50_test)\n",
    "row_side_info = ecfp.tocsr().getrow(i[0])\n",
    "p = predictor.predict_one((row_side_info,j[0]),v[0])\n",
    "print(p)"
   ]
  },
  {
   "cell_type": "markdown",
   "metadata": {},
   "source": [
    "The two examples above give a matrix (rank-2 tensor) as a result. It is adviced\n",
    "to make predictions on **all** samples, and average the predictions."
   ]
  },
  {
   "cell_type": "markdown",
   "metadata": {},
   "source": [
    "### Making predictions from saved run\n",
    "\n",
    "One can also make a `PredictSession` from a saved HDF5 file:"
   ]
  },
  {
   "cell_type": "code",
   "execution_count": 10,
   "metadata": {},
   "outputs": [
    {
     "name": "stdout",
     "output_type": "stream",
     "text": [
      "PredictSession with 10 samples\n",
      "  Data shape = (100, 346)\n",
      "  Beta shape = [100, 0]\n",
      "  Num latent = 16\n"
     ]
    }
   ],
   "source": [
    "import smurff\n",
    "\n",
    "predictor = smurff.PredictSession(\"ic50-macau.hdf5\")\n",
    "print(predictor)"
   ]
  },
  {
   "cell_type": "code",
   "execution_count": null,
   "metadata": {},
   "outputs": [],
   "source": []
  }
 ],
 "metadata": {
  "kernelspec": {
   "display_name": "Python 3",
   "language": "python",
   "name": "python3"
  },
  "language_info": {
   "codemirror_mode": {
    "name": "ipython",
    "version": 3
   },
   "file_extension": ".py",
   "mimetype": "text/x-python",
   "name": "python",
   "nbconvert_exporter": "python",
   "pygments_lexer": "ipython3",
   "version": "3.8.8"
  }
 },
 "nbformat": 4,
 "nbformat_minor": 2
}
