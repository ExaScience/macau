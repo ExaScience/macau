{
 "cells": [
  {
   "cell_type": "markdown",
   "metadata": {},
   "source": [
    "## Inference with SMURFF\n",
    "\n",
    "In this notebook we will continue on the first example. After running a training trainSession again in SMURFF, we will look deeper into how to use SMURFF for making predictions.\n",
    "\n",
    "To make predictions we recall that the value of a tensor model is given by a tensor contraction of all latent matrices. Specifically, the prediction for the element $\\hat{Y}_{ijk}$ of a rank-3 tensor is given by\n",
    "\n",
    "$$   \\hat{Y}_{ijk} = \\sum_{d=1}^D u^{(1)}_{d,i} u^{(2)}_{d,j} u^{(3)}_{d,k} + mean $$\n",
    "\n",
    "Since a matrix is a rank-2 tensor the prediction for a matrix is given by:\n",
    "\n",
    "$$   \\hat{Y}_{ij} = \\sum_{d=1}^D u^{(1)}_{d,i} u^{(2)}_{d,j} + mean $$\n",
    "\n",
    "These inner products are computed by SMURFF automagicaly, as we will see below.\n",
    "\n",
    "### Saving models\n",
    "\n",
    "We run a `Macau` training trainSession using side information (`ecfp`) from the chembl dataset.\n",
    "We make sure we *save every 10th sample*, such that we can load the model afterwards. This run will take some minutes to run."
   ]
  },
  {
   "cell_type": "code",
   "execution_count": null,
   "metadata": {},
   "outputs": [],
   "source": [
    "import smurff\n",
    "import os\n",
    "\n",
    "ic50_train, ic50_test, ecfp = smurff.load_chembl()\n",
    "\n",
    "os.makedirs(\"ic50-macau\", exist_ok=True)\n",
    "trainSession = smurff.MacauSession(\n",
    "                       Ytrain     = ic50_train,\n",
    "                       Ytest      = ic50_test,\n",
    "                       side_info  = [ecfp, None],\n",
    "                       num_latent = 16,\n",
    "                       burnin     = 200,\n",
    "                       nsamples   = 10,\n",
    "                       save_freq  = 1,\n",
    "                       save_prefix= \"ic50-macau\",\n",
    "                       verbose    = 1,)\n",
    "\n",
    "predictions = trainSession.run()"
   ]
  },
  {
   "cell_type": "markdown",
   "metadata": {},
   "source": [
    "### Saved files\n",
    "\n",
    "The saved files are indexed in a root ini-file, in this case the root ini-file will be `ic50-macau/root.ini`.\n",
    "The content of this file lists all saved info for this training run. For example\n",
    "\n",
    "```ini\n",
    "[options]\n",
    "options = ic50-save-options.ini\n",
    "\n",
    "[steps]\n",
    "sample_step_10 = sample-10-step.ini\n",
    "sample_step_20 = sample-20-step.ini\n",
    "sample_step_30 = sample-30-step.ini\n",
    "sample_step_40 = sample-40-step.ini\n",
    "```\n",
    "\n",
    "Each step ini-file contains the matrices saved in the step:\n",
    "\n",
    "```ini\n",
    "[models]\n",
    "num_models = 2\n",
    "model_0 = sample-50-U0-latents.ddm\n",
    "model_1 = sample-50-U1-latents.ddm\n",
    "[predictions]\n",
    "pred = sample-50-predictions.csv\n",
    "pred_state = sample-50-predictions-state.ini\n",
    "[priors]\n",
    "num_priors = 2\n",
    "prior_0 = sample-50-F0-link.ddm\n",
    "prior_1 = sample-50-F1-link.ddm\n",
    "```"
   ]
  },
  {
   "cell_type": "markdown",
   "metadata": {},
   "source": [
    "### Making  predictions from a `TrainSession`\n",
    "\n",
    "The easiest way to make predictions is from an existing `TrainSession`:"
   ]
  },
  {
   "cell_type": "code",
   "execution_count": null,
   "metadata": {},
   "outputs": [],
   "source": [
    "predictor = trainSession.makePredictSession()\n",
    "print(predictor)"
   ]
  },
  {
   "cell_type": "markdown",
   "metadata": {},
   "source": [
    "\n",
    "Once we have a `PredictSession`, there are serveral ways to make predictions:\n",
    "\n",
    " * From a sparse matrix\n",
    " * For all possible elements in the matrix (the complete $U \\times V$)\n",
    " * For a single point in the matrix\n",
    " * Using only side-information\n",
    " \n",
    "#### Predict all elements\n",
    "\n",
    "We can make predictions for all rows $\\times$ columns in our matrix"
   ]
  },
  {
   "cell_type": "code",
   "execution_count": null,
   "metadata": {},
   "outputs": [],
   "source": [
    "p = predictor.predict_all()\n",
    "print(p.shape) # p is a numpy array of size: (num samples) x (num rows) x (num columns)"
   ]
  },
  {
   "cell_type": "markdown",
   "metadata": {},
   "source": [
    "#### Predict element in a sparse matrix\n",
    "We can make predictions for a sparse matrix, for example our `ic50_test` matrix:"
   ]
  },
  {
   "cell_type": "code",
   "execution_count": null,
   "metadata": {},
   "outputs": [],
   "source": [
    "p = predictor.predict_some(ic50_test)\n",
    "print(len(p),\"predictions\") # p is a list of Predictions\n",
    "print(\"predictions 1:\", p[0])"
   ]
  },
  {
   "cell_type": "markdown",
   "metadata": {},
   "source": [
    "#### Predict just one element\n",
    "\n",
    "Or just one element. Let's predict the first element of our `ic50_test` matrix:"
   ]
  },
  {
   "cell_type": "code",
   "execution_count": null,
   "metadata": {},
   "outputs": [],
   "source": [
    "from scipy.sparse import find\n",
    "(i,j,v) = find(ic50_test)\n",
    "p = predictor.predict_one((i[0],j[0]),v[0])\n",
    "print(p)"
   ]
  },
  {
   "cell_type": "markdown",
   "metadata": {},
   "source": [
    "And plot the histogram of predictions for this element."
   ]
  },
  {
   "cell_type": "code",
   "execution_count": null,
   "metadata": {},
   "outputs": [],
   "source": [
    "%matplotlib inline\n",
    "import matplotlib.pyplot as plt\n",
    "\n",
    "# Plot a histogram of the samples.\n",
    "plt.subplot(111)\n",
    "plt.hist(p.pred_all, bins=10, density=True, label = \"predictions's histogram\")\n",
    "plt.plot(p.val, 1., 'ro', markersize =5, label = 'actual value')\n",
    "plt.legend()\n",
    "plt.title('Histogram of ' + str(len(p.pred_all)) + ' predictions')\n",
    "plt.show()"
   ]
  },
  {
   "cell_type": "markdown",
   "metadata": {},
   "source": [
    "#### Make predictions using side information\n",
    "\n",
    "We can make predictions for rows/columns not in our train matrix, using only side info:"
   ]
  },
  {
   "cell_type": "code",
   "execution_count": null,
   "metadata": {},
   "outputs": [],
   "source": [
    "import numpy as np\n",
    "from scipy.sparse import find\n",
    "\n",
    "(i,j,v) = find(ic50_test)\n",
    "row_side_info = ecfp.tocsr().getrow(i[0])\n",
    "p = predictor.predict_one((row_side_info,j[0]),v[0])\n",
    "print(p)"
   ]
  },
  {
   "cell_type": "markdown",
   "metadata": {},
   "source": [
    "### Accessing the saved model itself\n",
    "\n",
    "The latents matrices for all samples are stored in the `PredictSession` as `numpy` arrays"
   ]
  },
  {
   "cell_type": "code",
   "execution_count": null,
   "metadata": {},
   "outputs": [],
   "source": [
    "# print the U matrices for all samples\n",
    "for i,s in enumerate(predictor.samples):\n",
    "    print(\"sample\", i, \":\", [ (m, u.shape) for m,u in enumerate(s.latents) ])"
   ]
  },
  {
   "cell_type": "markdown",
   "metadata": {},
   "source": [
    "This will allow us to compute predictions for arbitraty slices of the matrix or tensors using \n",
    "`numpy.einsum`:"
   ]
  },
  {
   "cell_type": "code",
   "execution_count": null,
   "metadata": {},
   "outputs": [],
   "source": [
    "sample1 = predictor.samples[0]\n",
    "(U1, U2) = sample1.latents\n",
    "\n",
    "## predict the slice Y[7, : ] from sample 1\n",
    "Yhat_7x = np.einsum(U1[:,7], [0], U2, [0, 2])\n",
    "\n",
    "## predict the slice Y[:, 0:10] from sample 1\n",
    "Yhat_x10 = np.einsum(U1, [0, 1], U2[:,0:10], [0, 2])"
   ]
  },
  {
   "cell_type": "markdown",
   "metadata": {},
   "source": [
    "The two examples above give a matrix (rank-2 tensor) as a result. It is adviced\n",
    "to make predictions on **all** samples, and average the predictions."
   ]
  },
  {
   "cell_type": "markdown",
   "metadata": {},
   "source": [
    "### Making predictions from saved run\n",
    "\n",
    "One can also make a `PredictSession` from a save root ini-file:"
   ]
  },
  {
   "cell_type": "code",
   "execution_count": null,
   "metadata": {},
   "outputs": [],
   "source": [
    "import smurff\n",
    "\n",
    "predictor = smurff.PredictSession(\"ic50-macau/save-root.ini\")\n",
    "print(predictor)"
   ]
  },
  {
   "cell_type": "code",
   "execution_count": null,
   "metadata": {},
   "outputs": [],
   "source": []
  }
 ],
 "metadata": {
  "kernelspec": {
   "display_name": "Python 3",
   "language": "python",
   "name": "python3"
  },
  "language_info": {
   "codemirror_mode": {
    "name": "ipython",
    "version": 3
   },
   "file_extension": ".py",
   "mimetype": "text/x-python",
   "name": "python",
   "nbconvert_exporter": "python",
   "pygments_lexer": "ipython3",
   "version": "3.6.8"
  }
 },
 "nbformat": 4,
 "nbformat_minor": 2
}
