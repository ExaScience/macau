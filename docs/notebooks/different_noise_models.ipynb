{
 "cells": [
  {
   "cell_type": "markdown",
   "metadata": {},
   "source": [
    "# Different noise models\n",
    "\n",
    "In this notebook we look at the different noise models.\n",
    "\n",
    "## Prepare train, test and side-info\n",
    "\n",
    "We first need to download and prepare the data files. This can be acomplished using this a built-in function is smurff. IC50 is a compound x protein matrix, The ECFP matrix as features as side information on the compounds."
   ]
  },
  {
   "cell_type": "code",
   "execution_count": null,
   "metadata": {},
   "outputs": [],
   "source": [
    "import smurff\n",
    "\n",
    "ic50_train, ic50_test, ecfp = smurff.load_chembl()"
   ]
  },
  {
   "cell_type": "markdown",
   "metadata": {},
   "source": [
    "## Fixed noise\n",
    "\n",
    "The noise model of observed data  can be annotated by calling `addTrainAndTest` with\n",
    "the optional parameter `noise_model`. The default for this parameter is `FixedNoise` with precision 5.0"
   ]
  },
  {
   "cell_type": "code",
   "execution_count": null,
   "metadata": {},
   "outputs": [],
   "source": [
    "session = smurff.TrainSession(\n",
    "                            priors = ['normal', 'normal'],\n",
    "                            num_latent=32,\n",
    "                            burnin=100,\n",
    "                            nsamples=500)\n",
    "\n",
    "# the following line is equivalent to the default, not specifing noise_model\n",
    "session.addTrainAndTest(ic50_train, ic50_test, smurff.FixedNoise(5.0))\n",
    "predictions = session.run()\n",
    "print(\"RMSE = %.2f\" % smurff.call_rmse(predictions))"
   ]
  },
  {
   "cell_type": "markdown",
   "metadata": {},
   "source": [
    "## Adaptive noise\n",
    "\n",
    "Instead of a fixed precision, we can also allow the model to automatically determine the precision of the noise by using `AdaptiveNoise`, with signal-to-noise ratio parameters `sn_init` and `sn_max`.\n",
    "\n",
    "- `sn_init` is an initial signal-to-noise ratio.\n",
    "- `sn_max`  is the maximum allowed signal-to-noise ratio. This means that if the updated precision would imply a higher signal-to-noise ratio than `sn_max`, then the precision value is set to `(sn_max + 1.0) / Yvar` where `Yvar` is the variance of the training dataset `Y`."
   ]
  },
  {
   "cell_type": "code",
   "execution_count": null,
   "metadata": {},
   "outputs": [],
   "source": [
    "session = smurff.TrainSession(\n",
    "                            priors = ['normal', 'normal'],\n",
    "                            num_latent=32,\n",
    "                            burnin=100,\n",
    "                            nsamples=500)\n",
    "\n",
    "session.addTrainAndTest(ic50_train, ic50_test, smurff.AdaptiveNoise(1.0, 10.))\n",
    "predictions = session.run()\n",
    "print(\"RMSE = %.2f\" % smurff.call_rmse(predictions))"
   ]
  },
  {
   "cell_type": "markdown",
   "metadata": {
    "collapsed": true
   },
   "source": [
    "## Binary matrices\n",
    "\n",
    "SMURFF can also factorize binary matrices (with or without side information).\n",
    "The input matrices can contain arbitrary values, and are converted to 0's and 1' by means of a threshold.\n",
    "To factorize them we employ probit noise model `ProbitNoise`, taking this\n",
    "`threshold` as a parameter."
   ]
  },
  {
   "cell_type": "code",
   "execution_count": null,
   "metadata": {},
   "outputs": [],
   "source": [
    "session = smurff.TrainSession(\n",
    "                            priors = ['normal', 'normal'],\n",
    "                            num_latent=32,\n",
    "                            burnin=100,\n",
    "                            nsamples=!00)\n",
    "\n",
    "## using activity threshold pIC50 > 6.5\n",
    "session.addTrainAndTest(ic50_train, ic50_test, smurff.ProbitNoise(6.5))\n",
    "predictions = session.run()\n",
    "print(\"RMSE = %.2f\" % smurff.calc_rmse(predictions))"
   ]
  },
  {
   "cell_type": "code",
   "execution_count": null,
   "metadata": {},
   "outputs": [],
   "source": []
  }
 ],
 "metadata": {
  "kernelspec": {
   "display_name": "Python 3",
   "language": "python",
   "name": "python3"
  },
  "language_info": {
   "codemirror_mode": {
    "name": "ipython",
    "version": 3
   },
   "file_extension": ".py",
   "mimetype": "text/x-python",
   "name": "python",
   "nbconvert_exporter": "python",
   "pygments_lexer": "ipython3",
   "version": "3.6.6"
  }
 },
 "nbformat": 4,
 "nbformat_minor": 2
}
