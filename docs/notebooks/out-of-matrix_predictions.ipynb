{
 "cells": [
  {
   "cell_type": "code",
   "execution_count": 1,
   "metadata": {},
   "outputs": [
    {
     "data": {
      "text/plain": [
       "4.996270558540488e-16"
      ]
     },
     "execution_count": 1,
     "metadata": {},
     "output_type": "execute_result"
    }
   ],
   "source": [
    "import smurff\n",
    "import matrix_io as mio\n",
    "import numpy as np\n",
    "\n",
    "train = mio.read_matrix(\"train_centered.sdm\")\n",
    "np.mean(train)"
   ]
  },
  {
   "cell_type": "code",
   "execution_count": 2,
   "metadata": {},
   "outputs": [
    {
     "data": {
      "text/plain": [
       "0"
      ]
     },
     "execution_count": 2,
     "metadata": {},
     "output_type": "execute_result"
    }
   ],
   "source": [
    "train_csr = train.tocsr()\n",
    "num_nonzeros = np.diff(train_csr.indptr)\n",
    "num_nonzeros[2]"
   ]
  },
  {
   "cell_type": "code",
   "execution_count": 3,
   "metadata": {},
   "outputs": [
    {
     "data": {
      "text/plain": [
       "<1x526 sparse matrix of type '<class 'numpy.float64'>'\n",
       "\twith 0 stored elements in Compressed Sparse Row format>"
      ]
     },
     "execution_count": 3,
     "metadata": {},
     "output_type": "execute_result"
    }
   ],
   "source": [
    "#row  2 seems empty\n",
    "train_csr[2,:]"
   ]
  },
  {
   "cell_type": "code",
   "execution_count": 4,
   "metadata": {},
   "outputs": [
    {
     "name": "stdout",
     "output_type": "stream",
     "text": [
      "PredictSession with 9 samples\n",
      "  Data shape = [622729, 526]\n",
      "  Beta shape = [29413, 0]\n",
      "  Num latent = 8\n"
     ]
    }
   ],
   "source": [
    "sess = smurff.PredictSession(\"root.ini\")\n",
    "print(sess)"
   ]
  },
  {
   "cell_type": "code",
   "execution_count": 5,
   "metadata": {},
   "outputs": [
    {
     "data": {
      "text/plain": [
       "array([ 1.30522453, -0.69799155, -1.63390551,  0.47954038, -1.05110849,\n",
       "        1.50316563,  0.83644828, -0.45544372])"
      ]
     },
     "execution_count": 5,
     "metadata": {},
     "output_type": "execute_result"
    }
   ],
   "source": [
    "#latent representation for compound 2\n",
    "u_2 = sess.samples[0].latents[0][:,2]\n",
    "u_2"
   ]
  },
  {
   "cell_type": "code",
   "execution_count": 6,
   "metadata": {},
   "outputs": [
    {
     "data": {
      "text/plain": [
       "(1, 29413)"
      ]
     },
     "execution_count": 6,
     "metadata": {},
     "output_type": "execute_result"
    }
   ],
   "source": [
    "# feature vector compound 2\n",
    "ecfp = mio.read_matrix(\"feat_nonzeros.sdm\").tocsr()\n",
    "f_2 = ecfp[2,:]\n",
    "f_2.shape"
   ]
  },
  {
   "cell_type": "code",
   "execution_count": 7,
   "metadata": {},
   "outputs": [
    {
     "data": {
      "text/plain": [
       "(8, 29413)"
      ]
     },
     "execution_count": 7,
     "metadata": {},
     "output_type": "execute_result"
    }
   ],
   "source": [
    "beta = sess.samples[0].betas[0]\n",
    "beta.shape"
   ]
  },
  {
   "cell_type": "code",
   "execution_count": 8,
   "metadata": {},
   "outputs": [
    {
     "data": {
      "text/plain": [
       "array([[ 0.61913943, -0.30052548, -0.22481842,  0.37239162,  0.09803664,\n",
       "         0.32319267,  0.34434824, -0.39687207]])"
      ]
     },
     "execution_count": 8,
     "metadata": {},
     "output_type": "execute_result"
    }
   ],
   "source": [
    "# predict U from features (NOT adding mean)\n",
    "u_2_f1 = f_2 * beta.T\n",
    "u_2_f1"
   ]
  },
  {
   "cell_type": "code",
   "execution_count": 9,
   "metadata": {},
   "outputs": [
    {
     "data": {
      "text/plain": [
       "(array([-1.68405648e-04,  2.95383937e-02, -4.61079916e-01, -2.99911753e-01,\n",
       "        -7.19341866e-01,  9.13175546e-01,  6.47010994e-01, -4.70864672e-02]),\n",
       " (8,))"
      ]
     },
     "execution_count": 9,
     "metadata": {},
     "output_type": "execute_result"
    }
   ],
   "source": [
    "umean = np.mean(sess.samples[0].latents[0], axis=1)\n",
    "umean, umean.shape"
   ]
  },
  {
   "cell_type": "code",
   "execution_count": 10,
   "metadata": {},
   "outputs": [
    {
     "data": {
      "text/plain": [
       "array([[ 0.61897103, -0.27098709, -0.68589834,  0.07247986, -0.62130522,\n",
       "         1.23636822,  0.99135923, -0.44395854]])"
      ]
     },
     "execution_count": 10,
     "metadata": {},
     "output_type": "execute_result"
    }
   ],
   "source": [
    "# predict U from features (YES adding mean)\n",
    "u_2_f2 = f_2 * beta.T + umean\n",
    "u_2_f2"
   ]
  },
  {
   "cell_type": "code",
   "execution_count": 11,
   "metadata": {},
   "outputs": [
    {
     "data": {
      "text/plain": [
       "array([[ 0.6862535 , -0.42700447, -0.94800717,  0.40706052, -0.42980327,\n",
       "         0.26679741, -0.15491095, -0.01148518]])"
      ]
     },
     "execution_count": 11,
     "metadata": {},
     "output_type": "execute_result"
    }
   ],
   "source": [
    "u_2 - u_2_f2"
   ]
  },
  {
   "cell_type": "code",
   "execution_count": 12,
   "metadata": {},
   "outputs": [
    {
     "data": {
      "text/plain": [
       "2.5946549137201806"
      ]
     },
     "execution_count": 12,
     "metadata": {},
     "output_type": "execute_result"
    }
   ],
   "source": [
    "Pf = sess.predict([f_2,0])\n",
    "np.mean(Pf)"
   ]
  },
  {
   "cell_type": "code",
   "execution_count": 13,
   "metadata": {},
   "outputs": [
    {
     "data": {
      "text/plain": [
       "2.8432540752024207"
      ]
     },
     "execution_count": 13,
     "metadata": {},
     "output_type": "execute_result"
    }
   ],
   "source": [
    "Pu = sess.predict([2,0])\n",
    "np.mean(Pu)"
   ]
  },
  {
   "cell_type": "code",
   "execution_count": null,
   "metadata": {},
   "outputs": [],
   "source": []
  }
 ],
 "metadata": {
  "kernelspec": {
   "display_name": "Python 3",
   "language": "python",
   "name": "python3"
  },
  "language_info": {
   "codemirror_mode": {
    "name": "ipython",
    "version": 3
   },
   "file_extension": ".py",
   "mimetype": "text/x-python",
   "name": "python",
   "nbconvert_exporter": "python",
   "pygments_lexer": "ipython3",
   "version": "3.6.5"
  }
 },
 "nbformat": 4,
 "nbformat_minor": 2
}
