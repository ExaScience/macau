{
 "cells": [
  {
   "cell_type": "markdown",
   "metadata": {},
   "source": [
    "## BPMF using posterior propagation\n",
    "\n",
    "\n",
    "### Downloading the data files\n",
    "\n",
    "In these examples we use ChEMBL dataset for compound-proteins activities (IC50). The IC50 values and ECFP fingerprints can be downloaded using this smurff function:"
   ]
  },
  {
   "cell_type": "code",
   "execution_count": 3,
   "metadata": {},
   "outputs": [],
   "source": [
    "import smurff\n",
    "import logging\n",
    "\n",
    "logging.basicConfig(level = logging.INFO)\n",
    "\n",
    "ic50_train, ic50_test, ecfp = smurff.load_chembl()"
   ]
  },
  {
   "cell_type": "code",
   "execution_count": 3,
   "metadata": {},
   "outputs": [],
   "source": [
    "ic50_train = ic50_train.tocsr()[:100,:]\n",
    "ic50_test = ic50_test.tocsr()[:100,:]"
   ]
  },
  {
   "cell_type": "markdown",
   "metadata": {},
   "source": [
    "### Running SMURFF\n",
    "\n",
    "Finally we run make a BPMF training trainSession and call `run`. The `run` function builds the model and\n",
    "returns the `predictions` of the test data."
   ]
  },
  {
   "cell_type": "code",
   "execution_count": 5,
   "metadata": {},
   "outputs": [
    {
     "name": "stderr",
     "output_type": "stream",
     "text": [
      "INFO:root:PythonSession {\n",
      "  Data: {\n",
      "    Type: ScarceMatrixData [with NAs]\n",
      "    Component-wise mean: 6.47948\n",
      "    Component-wise variance: 1.80874\n",
      "    Noise: Fixed gaussian noise with precision: 5.00\n",
      "    Size: 325 [100 x 346] (0.94%)\n",
      "      Warning: 1 empty rows\n",
      "      Warning: 276 empty cols\n",
      "  }\n",
      "  Model: {\n",
      "    Num-latents: 16\n",
      "    Dimensions: 100,346\n",
      "  }\n",
      "  Priors: {\n",
      "    0: NormalPrior\n",
      "    1: NormalPrior\n",
      "  }\n",
      "  Result: {\n",
      "    Test data: 89 [100 x 346] (0.26%)\n",
      "  }\n",
      "  Config: {\n",
      "      Iterations: 40 burnin + 20 samples\n",
      "      Save model: every 1 iteration\n",
      "      Output file: /tmp/tmpmp0cncz1/output.hdf5\n",
      "  }\n",
      "}\n",
      "\n",
      "INFO:root:Burnin   1/ 40: RMSE: nan (1samp: 6.8910)  U:[1.26e+01, 4.33e+01, ] [took: 0.0s, total: 0.0s]\n",
      "INFO:root:Burnin   2/ 40: RMSE: nan (1samp: 3.0736)  U:[1.82e+01, 5.55e+01, ] [took: 0.0s, total: 0.0s]\n",
      "INFO:root:Burnin   3/ 40: RMSE: nan (1samp: 3.1355)  U:[2.08e+01, 6.73e+01, ] [took: 0.0s, total: 0.0s]\n",
      "INFO:root:Burnin   4/ 40: RMSE: nan (1samp: 3.9048)  U:[2.18e+01, 7.53e+01, ] [took: 0.0s, total: 0.0s]\n",
      "INFO:root:Burnin   5/ 40: RMSE: nan (1samp: 2.8299)  U:[2.35e+01, 7.62e+01, ] [took: 0.0s, total: 0.0s]\n",
      "INFO:root:Burnin   6/ 40: RMSE: nan (1samp: 3.9431)  U:[2.41e+01, 7.81e+01, ] [took: 0.0s, total: 0.0s]\n",
      "INFO:root:Burnin   7/ 40: RMSE: nan (1samp: 3.3842)  U:[2.35e+01, 8.26e+01, ] [took: 0.0s, total: 0.0s]\n",
      "INFO:root:Burnin   8/ 40: RMSE: nan (1samp: 4.1317)  U:[2.38e+01, 8.45e+01, ] [took: 0.0s, total: 0.0s]\n",
      "INFO:root:Burnin   9/ 40: RMSE: nan (1samp: 4.0492)  U:[2.33e+01, 8.80e+01, ] [took: 0.0s, total: 0.0s]\n",
      "INFO:root:Burnin  10/ 40: RMSE: nan (1samp: 3.3717)  U:[2.39e+01, 9.00e+01, ] [took: 0.0s, total: 0.0s]\n",
      "INFO:root:Burnin  11/ 40: RMSE: nan (1samp: 3.4411)  U:[2.46e+01, 9.70e+01, ] [took: 0.0s, total: 0.0s]\n",
      "INFO:root:Burnin  12/ 40: RMSE: nan (1samp: 3.3478)  U:[2.50e+01, 1.00e+02, ] [took: 0.0s, total: 0.0s]\n",
      "INFO:root:Burnin  13/ 40: RMSE: nan (1samp: 3.1709)  U:[2.52e+01, 9.61e+01, ] [took: 0.0s, total: 0.0s]\n",
      "INFO:root:Burnin  14/ 40: RMSE: nan (1samp: 3.4430)  U:[2.44e+01, 1.00e+02, ] [took: 0.0s, total: 0.0s]\n",
      "INFO:root:Burnin  15/ 40: RMSE: nan (1samp: 2.8451)  U:[2.43e+01, 9.74e+01, ] [took: 0.0s, total: 0.0s]\n",
      "INFO:root:Burnin  16/ 40: RMSE: nan (1samp: 4.5430)  U:[2.49e+01, 9.85e+01, ] [took: 0.0s, total: 0.0s]\n",
      "INFO:root:Burnin  17/ 40: RMSE: nan (1samp: 3.4381)  U:[2.49e+01, 1.01e+02, ] [took: 0.0s, total: 0.0s]\n",
      "INFO:root:Burnin  18/ 40: RMSE: nan (1samp: 2.4391)  U:[2.61e+01, 9.98e+01, ] [took: 0.0s, total: 0.0s]\n",
      "INFO:root:Burnin  19/ 40: RMSE: nan (1samp: 2.0550)  U:[2.48e+01, 9.90e+01, ] [took: 0.0s, total: 0.0s]\n",
      "INFO:root:Burnin  20/ 40: RMSE: nan (1samp: 2.2550)  U:[2.59e+01, 1.07e+02, ] [took: 0.0s, total: 0.0s]\n",
      "INFO:root:Burnin  21/ 40: RMSE: nan (1samp: 2.6871)  U:[2.73e+01, 9.94e+01, ] [took: 0.0s, total: 0.0s]\n",
      "INFO:root:Burnin  22/ 40: RMSE: nan (1samp: 2.5772)  U:[2.84e+01, 1.01e+02, ] [took: 0.0s, total: 0.0s]\n",
      "INFO:root:Burnin  23/ 40: RMSE: nan (1samp: 2.3123)  U:[2.98e+01, 1.05e+02, ] [took: 0.0s, total: 0.0s]\n",
      "INFO:root:Burnin  24/ 40: RMSE: nan (1samp: 1.8793)  U:[3.23e+01, 1.04e+02, ] [took: 0.0s, total: 0.0s]\n",
      "INFO:root:Burnin  25/ 40: RMSE: nan (1samp: 1.9996)  U:[3.25e+01, 1.05e+02, ] [took: 0.0s, total: 0.0s]\n",
      "INFO:root:Burnin  26/ 40: RMSE: nan (1samp: 2.2867)  U:[3.42e+01, 1.09e+02, ] [took: 0.0s, total: 0.0s]\n",
      "INFO:root:Burnin  27/ 40: RMSE: nan (1samp: 2.0286)  U:[3.38e+01, 1.06e+02, ] [took: 0.0s, total: 0.0s]\n",
      "INFO:root:Burnin  28/ 40: RMSE: nan (1samp: 1.8144)  U:[3.50e+01, 1.08e+02, ] [took: 0.0s, total: 0.0s]\n",
      "INFO:root:Burnin  29/ 40: RMSE: nan (1samp: 1.6374)  U:[3.60e+01, 1.11e+02, ] [took: 0.0s, total: 0.0s]\n",
      "INFO:root:Burnin  30/ 40: RMSE: nan (1samp: 1.7143)  U:[3.75e+01, 1.14e+02, ] [took: 0.0s, total: 0.0s]\n",
      "INFO:root:Burnin  31/ 40: RMSE: nan (1samp: 1.7360)  U:[3.75e+01, 1.15e+02, ] [took: 0.0s, total: 0.0s]\n",
      "INFO:root:Burnin  32/ 40: RMSE: nan (1samp: 1.9262)  U:[3.90e+01, 1.21e+02, ] [took: 0.0s, total: 0.0s]\n",
      "INFO:root:Burnin  33/ 40: RMSE: nan (1samp: 1.2770)  U:[3.98e+01, 1.11e+02, ] [took: 0.0s, total: 0.0s]\n",
      "INFO:root:Burnin  34/ 40: RMSE: nan (1samp: 1.6608)  U:[3.98e+01, 1.07e+02, ] [took: 0.0s, total: 0.0s]\n",
      "INFO:root:Burnin  35/ 40: RMSE: nan (1samp: 1.8012)  U:[3.90e+01, 1.06e+02, ] [took: 0.0s, total: 0.0s]\n",
      "INFO:root:Burnin  36/ 40: RMSE: nan (1samp: 1.3182)  U:[3.76e+01, 1.06e+02, ] [took: 0.0s, total: 0.0s]\n",
      "INFO:root:Burnin  37/ 40: RMSE: nan (1samp: 1.3447)  U:[3.90e+01, 1.09e+02, ] [took: 0.0s, total: 0.0s]\n",
      "INFO:root:Burnin  38/ 40: RMSE: nan (1samp: 1.5288)  U:[3.84e+01, 1.03e+02, ] [took: 0.0s, total: 0.0s]\n",
      "INFO:root:Burnin  39/ 40: RMSE: nan (1samp: 1.1518)  U:[3.92e+01, 1.03e+02, ] [took: 0.0s, total: 0.0s]\n",
      "INFO:root:Burnin  40/ 40: RMSE: nan (1samp: 1.2876)  U:[4.03e+01, 1.03e+02, ] [took: 0.0s, total: 0.0s]\n",
      "INFO:root:Sample   1/ 20: RMSE: 1.3058 (1samp: 1.3058)  U:[4.09e+01, 1.02e+02, ] [took: 0.0s, total: 0.0s]\n",
      "INFO:root:Sample   2/ 20: RMSE: 0.9946 (1samp: 1.2586)  U:[4.15e+01, 1.04e+02, ] [took: 0.0s, total: 0.0s]\n",
      "INFO:root:Sample   3/ 20: RMSE: 1.0085 (1samp: 1.4668)  U:[4.08e+01, 1.03e+02, ] [took: 0.0s, total: 0.0s]\n",
      "INFO:root:Sample   4/ 20: RMSE: 0.9310 (1samp: 1.2284)  U:[4.14e+01, 1.02e+02, ] [took: 0.0s, total: 0.0s]\n",
      "INFO:root:Sample   5/ 20: RMSE: 0.9095 (1samp: 1.1527)  U:[4.19e+01, 1.01e+02, ] [took: 0.0s, total: 0.0s]\n",
      "INFO:root:Sample   6/ 20: RMSE: 0.9208 (1samp: 1.5254)  U:[4.29e+01, 1.01e+02, ] [took: 0.0s, total: 0.1s]\n",
      "INFO:root:Sample   7/ 20: RMSE: 0.9305 (1samp: 1.2944)  U:[4.27e+01, 1.04e+02, ] [took: 0.0s, total: 0.1s]\n",
      "INFO:root:Sample   8/ 20: RMSE: 0.9666 (1samp: 1.6650)  U:[4.33e+01, 1.01e+02, ] [took: 0.0s, total: 0.1s]\n",
      "INFO:root:Sample   9/ 20: RMSE: 0.9554 (1samp: 1.2797)  U:[4.34e+01, 9.96e+01, ] [took: 0.0s, total: 0.1s]\n",
      "INFO:root:Sample  10/ 20: RMSE: 0.9733 (1samp: 1.4586)  U:[4.30e+01, 9.88e+01, ] [took: 0.0s, total: 0.1s]\n",
      "INFO:root:Sample  11/ 20: RMSE: 0.9711 (1samp: 1.3668)  U:[4.28e+01, 9.70e+01, ] [took: 0.0s, total: 0.1s]\n",
      "INFO:root:Sample  12/ 20: RMSE: 0.9755 (1samp: 1.4683)  U:[4.30e+01, 9.63e+01, ] [took: 0.0s, total: 0.1s]\n",
      "INFO:root:Sample  13/ 20: RMSE: 0.9840 (1samp: 1.4772)  U:[4.26e+01, 9.75e+01, ] [took: 0.0s, total: 0.1s]\n",
      "INFO:root:Sample  14/ 20: RMSE: 0.9858 (1samp: 1.3810)  U:[4.24e+01, 9.76e+01, ] [took: 0.0s, total: 0.1s]\n",
      "INFO:root:Sample  15/ 20: RMSE: 0.9802 (1samp: 1.3540)  U:[4.30e+01, 9.66e+01, ] [took: 0.0s, total: 0.1s]\n",
      "INFO:root:Sample  16/ 20: RMSE: 0.9761 (1samp: 1.3010)  U:[4.16e+01, 9.57e+01, ] [took: 0.0s, total: 0.1s]\n",
      "INFO:root:Sample  17/ 20: RMSE: 0.9781 (1samp: 1.4127)  U:[4.24e+01, 9.58e+01, ] [took: 0.0s, total: 0.1s]\n",
      "INFO:root:Sample  18/ 20: RMSE: 0.9710 (1samp: 1.2082)  U:[4.24e+01, 9.04e+01, ] [took: 0.0s, total: 0.1s]\n",
      "INFO:root:Sample  19/ 20: RMSE: 0.9774 (1samp: 1.4727)  U:[4.15e+01, 9.12e+01, ] [took: 0.0s, total: 0.1s]\n",
      "INFO:root:Sample  20/ 20: RMSE: 0.9657 (1samp: 1.3076)  U:[4.18e+01, 8.53e+01, ] [took: 0.0s, total: 0.1s]\n"
     ]
    }
   ],
   "source": [
    "trainSession = smurff.BPMFSession(\n",
    "                       Ytrain     = ic50_train,\n",
    "                       Ytest      = ic50_test,\n",
    "                       num_latent = 16,\n",
    "                       burnin     = 40,\n",
    "                       nsamples   = 20,\n",
    "                       verbose    = 1,\n",
    "                       save_freq = 1,)\n",
    "\n",
    "predictions = trainSession.run()"
   ]
  },
  {
   "cell_type": "code",
   "execution_count": 6,
   "metadata": {},
   "outputs": [],
   "source": [
    "import numpy as np\n",
    "\n",
    "predict_session = trainSession.makePredictSession()"
   ]
  },
  {
   "cell_type": "code",
   "execution_count": 16,
   "metadata": {},
   "outputs": [
    {
     "data": {
      "text/plain": [
       "((100, 16), (16, 1600))"
      ]
     },
     "execution_count": 16,
     "metadata": {},
     "output_type": "execute_result"
    }
   ],
   "source": [
    "# collect U for all samples\n",
    "Us = [ s.latents()[0] for s in predict_session.samples ]\n",
    "\n",
    "# stack them and compute mean\n",
    "Ustacked = np.stack(Us)\n",
    "mu = np.mean(Ustacked, axis = 0)\n",
    "\n",
    "# Compute covariance, first unstack in different way\n",
    "Uunstacked = np.squeeze(np.split(Ustacked, Ustacked.shape[1], axis = 1))\n",
    "Ucov = [ np.cov(u, rowvar = False) for u in Uunstacked ]\n",
    "# restack\n",
    "Ucovstacked = np.stack(Ucov, axis = 2)\n",
    "# reshape correctly\n",
    "Lambda = Ucovstacked.reshape(Ucovstacked.shape[0], Ucovstacked.shape[1]*Ucovstacked.shape[2])\n",
    "\n",
    "mu.shape, Lambda.shape"
   ]
  },
  {
   "cell_type": "code",
   "execution_count": 14,
   "metadata": {},
   "outputs": [
    {
     "data": {
      "text/plain": [
       "(100, 16)"
      ]
     },
     "execution_count": 14,
     "metadata": {},
     "output_type": "execute_result"
    }
   ],
   "source": [
    "Ustacked.shape\n",
    "mu = np.mean(Ustacked, axis = 0)\n",
    "mu.shape"
   ]
  },
  {
   "cell_type": "code",
   "execution_count": 8,
   "metadata": {},
   "outputs": [
    {
     "ename": "RuntimeError",
     "evalue": "/dev/shm/smurff_1617879756731/work/cpp/SmurffCpp/Configs/Config.cpp:325 in function: validate\nassert: mu of propagated posterior in mode 0 should have same number of columns as train in mode",
     "output_type": "error",
     "traceback": [
      "\u001b[0;31m---------------------------------------------------------------------------\u001b[0m",
      "\u001b[0;31mRuntimeError\u001b[0m                              Traceback (most recent call last)",
      "\u001b[0;32m<ipython-input-8-778e4f0f20d2>\u001b[0m in \u001b[0;36m<module>\u001b[0;34m\u001b[0m\n\u001b[1;32m      9\u001b[0m                        )\n\u001b[1;32m     10\u001b[0m \u001b[0msession2\u001b[0m\u001b[0;34m.\u001b[0m\u001b[0maddPropagatedPosterior\u001b[0m\u001b[0;34m(\u001b[0m\u001b[0;36m0\u001b[0m\u001b[0;34m,\u001b[0m \u001b[0mmu\u001b[0m\u001b[0;34m,\u001b[0m \u001b[0mLambda\u001b[0m\u001b[0;34m)\u001b[0m\u001b[0;34m\u001b[0m\u001b[0;34m\u001b[0m\u001b[0m\n\u001b[0;32m---> 11\u001b[0;31m \u001b[0mpredictions\u001b[0m \u001b[0;34m=\u001b[0m \u001b[0msession2\u001b[0m\u001b[0;34m.\u001b[0m\u001b[0mrun\u001b[0m\u001b[0;34m(\u001b[0m\u001b[0;34m)\u001b[0m\u001b[0;34m\u001b[0m\u001b[0;34m\u001b[0m\u001b[0m\n\u001b[0m",
      "\u001b[0;32m~/miniconda3/envs/smurff-0.16/lib/python3.9/site-packages/smurff/trainsession.py\u001b[0m in \u001b[0;36mrun\u001b[0;34m(self)\u001b[0m\n\u001b[1;32m    251\u001b[0m                 \u001b[0;32mpass\u001b[0m\u001b[0;34m\u001b[0m\u001b[0;34m\u001b[0m\u001b[0m\n\u001b[1;32m    252\u001b[0m         \"\"\"\n\u001b[0;32m--> 253\u001b[0;31m         \u001b[0mself\u001b[0m\u001b[0;34m.\u001b[0m\u001b[0minit\u001b[0m\u001b[0;34m(\u001b[0m\u001b[0;34m)\u001b[0m\u001b[0;34m\u001b[0m\u001b[0;34m\u001b[0m\u001b[0m\n\u001b[0m\u001b[1;32m    254\u001b[0m         \u001b[0;32mwhile\u001b[0m \u001b[0mself\u001b[0m\u001b[0;34m.\u001b[0m\u001b[0mstep\u001b[0m\u001b[0;34m(\u001b[0m\u001b[0;34m)\u001b[0m\u001b[0;34m:\u001b[0m\u001b[0;34m\u001b[0m\u001b[0;34m\u001b[0m\u001b[0m\n\u001b[1;32m    255\u001b[0m             \u001b[0;32mpass\u001b[0m\u001b[0;34m\u001b[0m\u001b[0;34m\u001b[0m\u001b[0m\n",
      "\u001b[0;32m~/miniconda3/envs/smurff-0.16/lib/python3.9/site-packages/smurff/trainsession.py\u001b[0m in \u001b[0;36minit\u001b[0;34m(self)\u001b[0m\n\u001b[1;32m    217\u001b[0m         \"\"\"\n\u001b[1;32m    218\u001b[0m \u001b[0;34m\u001b[0m\u001b[0m\n\u001b[0;32m--> 219\u001b[0;31m         \u001b[0msuper\u001b[0m\u001b[0;34m(\u001b[0m\u001b[0;34m)\u001b[0m\u001b[0;34m.\u001b[0m\u001b[0minit\u001b[0m\u001b[0;34m(\u001b[0m\u001b[0;34m)\u001b[0m\u001b[0;34m\u001b[0m\u001b[0;34m\u001b[0m\u001b[0m\n\u001b[0m\u001b[1;32m    220\u001b[0m         \u001b[0mlogging\u001b[0m\u001b[0;34m.\u001b[0m\u001b[0minfo\u001b[0m\u001b[0;34m(\u001b[0m\u001b[0mself\u001b[0m\u001b[0;34m)\u001b[0m\u001b[0;34m\u001b[0m\u001b[0;34m\u001b[0m\u001b[0m\n\u001b[1;32m    221\u001b[0m         \u001b[0;32mreturn\u001b[0m \u001b[0mself\u001b[0m\u001b[0;34m.\u001b[0m\u001b[0mgetStatus\u001b[0m\u001b[0;34m(\u001b[0m\u001b[0;34m)\u001b[0m\u001b[0;34m\u001b[0m\u001b[0;34m\u001b[0m\u001b[0m\n",
      "\u001b[0;31mRuntimeError\u001b[0m: /dev/shm/smurff_1617879756731/work/cpp/SmurffCpp/Configs/Config.cpp:325 in function: validate\nassert: mu of propagated posterior in mode 0 should have same number of columns as train in mode"
     ]
    }
   ],
   "source": [
    "session2 = smurff.BPMFSession(\n",
    "                       Ytrain     = ic50_train,\n",
    "                       Ytest      = ic50_test,\n",
    "                       num_latent = 16,\n",
    "                       burnin     = 40,\n",
    "                       nsamples   = 20,\n",
    "                       verbose    = 1,\n",
    "                       save_freq = 1,\n",
    "                       )\n",
    "session2.addPropagatedPosterior(0, mu, Lambda)\n",
    "predictions = session2.run()"
   ]
  },
  {
   "cell_type": "code",
   "execution_count": null,
   "metadata": {},
   "outputs": [],
   "source": []
  }
 ],
 "metadata": {
  "kernelspec": {
   "display_name": "Python 3",
   "language": "python",
   "name": "python3"
  },
  "language_info": {
   "codemirror_mode": {
    "name": "ipython",
    "version": 3
   },
   "file_extension": ".py",
   "mimetype": "text/x-python",
   "name": "python",
   "nbconvert_exporter": "python",
   "pygments_lexer": "ipython3",
   "version": "3.9.2"
  }
 },
 "nbformat": 4,
 "nbformat_minor": 2
}
