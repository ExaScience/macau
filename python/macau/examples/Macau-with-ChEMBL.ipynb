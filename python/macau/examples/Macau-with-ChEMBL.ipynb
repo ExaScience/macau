{
 "cells": [
  {
   "cell_type": "markdown",
   "metadata": {},
   "source": [
    "# Downloading data"
   ]
  },
  {
   "cell_type": "code",
   "execution_count": null,
   "metadata": {},
   "outputs": [],
   "source": [
    "## skip, if data is already downloaded\n",
    "!wget --no-verbose http://homes.esat.kuleuven.be/~jsimm/chembl-IC50-346targets.mm\n",
    "!wget --no-verbose http://homes.esat.kuleuven.be/~jsimm/chembl-IC50-compound-feat.mm"
   ]
  },
  {
   "cell_type": "markdown",
   "metadata": {},
   "source": [
    "# Running Macau on ChEMBL data"
   ]
  },
  {
   "cell_type": "code",
   "execution_count": null,
   "metadata": {},
   "outputs": [],
   "source": [
    "import macau\n",
    "import scipy.io\n",
    "macau.__version__"
   ]
  },
  {
   "cell_type": "code",
   "execution_count": null,
   "metadata": {},
   "outputs": [],
   "source": [
    "## loading data\n",
    "ic50 = scipy.io.mmread(\"chembl-IC50-346targets.mm\")\n",
    "ecfp = scipy.io.mmread(\"chembl-IC50-compound-feat.mm\")"
   ]
  },
  {
   "cell_type": "code",
   "execution_count": null,
   "metadata": {
    "collapsed": true
   },
   "outputs": [],
   "source": [
    "## running factorization (Macau)\n",
    "result = macau.macau(Y = ic50,\n",
    "                     Ytest      = 0.2,\n",
    "                     side       = [ecfp, None],\n",
    "                     num_latent = 32,\n",
    "                     precision  = 5.0,\n",
    "                     burnin     = 40,\n",
    "                     nsamples   = 160,\n",
    "                     univariate = True)"
   ]
  },
  {
   "cell_type": "code",
   "execution_count": null,
   "metadata": {},
   "outputs": [],
   "source": [
    "result.rmse_test"
   ]
  },
  {
   "cell_type": "code",
   "execution_count": null,
   "metadata": {},
   "outputs": [],
   "source": [
    "result.prediction.head()"
   ]
  },
  {
   "cell_type": "markdown",
   "metadata": {
    "collapsed": true
   },
   "source": [
    "## Plotting results"
   ]
  },
  {
   "cell_type": "code",
   "execution_count": null,
   "metadata": {},
   "outputs": [],
   "source": [
    "%matplotlib inline\n",
    "import matplotlib.pyplot as plt"
   ]
  },
  {
   "cell_type": "code",
   "execution_count": null,
   "metadata": {},
   "outputs": [],
   "source": [
    "plt.plot(result.prediction.y, result.prediction.y_pred, \".\", alpha=.4)\n",
    "plt.title('pIC50s for all proteins');\n",
    "plt.xlabel(\"Measured pIC50\")\n",
    "plt.ylabel(\"Predicted pIC50\")"
   ]
  },
  {
   "cell_type": "code",
   "execution_count": null,
   "metadata": {},
   "outputs": [],
   "source": [
    "## per protein plot\n",
    "pid = 9\n",
    "prot = result.prediction.query(\"col == %d\" % pid)\n",
    "plt.plot(prot.y, prot.y_pred, \".\", alpha=.4)\n",
    "plt.title('pIC50s for protein %d' % pid);\n",
    "plt.xlabel(\"Measured pIC50\")\n",
    "plt.ylabel(\"Predicted pIC50\")"
   ]
  },
  {
   "cell_type": "code",
   "execution_count": null,
   "metadata": {
    "collapsed": true
   },
   "outputs": [],
   "source": []
  }
 ],
 "metadata": {
  "kernelspec": {
   "display_name": "Python 3",
   "language": "python",
   "name": "python3"
  },
  "language_info": {
   "codemirror_mode": {
    "name": "ipython",
    "version": 3
   },
   "file_extension": ".py",
   "mimetype": "text/x-python",
   "name": "python",
   "nbconvert_exporter": "python",
   "pygments_lexer": "ipython3",
   "version": "3.6.0"
  }
 },
 "nbformat": 4,
 "nbformat_minor": 2
}
