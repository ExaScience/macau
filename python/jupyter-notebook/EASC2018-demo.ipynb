{
 "cells": [
  {
   "cell_type": "markdown",
   "metadata": {},
   "source": [
    "## Downloading the Data Files\n",
    "\n",
    "In these examples we use ChEMBL dataset for compound-proteins activities (IC50). The IC50 values and ECFP fingerprints can be downloaded from these two urls:"
   ]
  },
  {
   "cell_type": "code",
   "execution_count": null,
   "metadata": {},
   "outputs": [],
   "source": [
    "%%bash\n",
    "wget http://homes.esat.kuleuven.be/~jsimm/chembl-IC50-346targets.mm\n",
    "wget http://homes.esat.kuleuven.be/~jsimm/chembl-IC50-compound-feat.mm"
   ]
  },
  {
   "cell_type": "markdown",
   "metadata": {},
   "source": [
    "## Load and plot the .mm files"
   ]
  },
  {
   "cell_type": "code",
   "execution_count": null,
   "metadata": {},
   "outputs": [],
   "source": [
    "import smurff\n",
    "import scipy.io\n",
    "\n",
    "import scipy.sparse\n",
    "import numpy\n",
    "\n",
    "## loading data\n",
    "ic50 = scipy.io.mmread(\"chembl-IC50-346targets.mm\")\n",
    "ecfp = scipy.io.mmread(\"chembl-IC50-compound-feat.mm\")\n",
    "\n",
    "## creating train and test sets\n",
    "ic50_train, ic50_test = smurff.make_train_test(ic50, 0.2)"
   ]
  },
  {
   "cell_type": "markdown",
   "metadata": {},
   "source": [
    "## Handy function to plot sparsity pattern"
   ]
  },
  {
   "cell_type": "code",
   "execution_count": null,
   "metadata": {},
   "outputs": [],
   "source": [
    "%matplotlib notebook\n",
    "\n",
    "from matplotlib.pyplot import figure, show\n",
    "from scipy.sparse import coo_matrix\n",
    "\n",
    "fig = figure()\n",
    "ax = fig.add_subplot(111)\n",
    "ax.spy(ic50.tocsr()[0:1000,:].T, markersize = 1)\n",
    "show()"
   ]
  },
  {
   "cell_type": "code",
   "execution_count": null,
   "metadata": {},
   "outputs": [],
   "source": [
    "%load_ext wurlitzer"
   ]
  },
  {
   "cell_type": "code",
   "execution_count": null,
   "metadata": {},
   "outputs": [],
   "source": [
    "import os\n",
    "\n",
    "## running factorization (Macau)\n",
    "session = smurff.MacauSession(\n",
    "                                    ic50_train,\n",
    "                       Ytest      = ic50_test,\n",
    "                       side_info  = [None, None],\n",
    "                       verbose    = 1,\n",
    "                       num_latent = 16,\n",
    "                       save_prefix = 'macau-run/save',\n",
    "                       save_freq  = 1,\n",
    "                       burnin     = 40,\n",
    "                       nsamples   = 200,)\n",
    "\n",
    "predictions = session.run()\n",
    "\n",
    "rmse = smurff.calc_rmse(predictions)\n",
    "rmse"
   ]
  },
  {
   "cell_type": "code",
   "execution_count": null,
   "metadata": {},
   "outputs": [],
   "source": [
    "%matplotlib notebook\n",
    "\n",
    "from matplotlib.pyplot import subplots, show\n",
    "\n",
    "y = numpy.array([ p.val for p in predictions ])\n",
    "predicted = numpy.array([ p.pred_avg for p in predictions ])\n",
    "\n",
    "fig, ax = subplots()\n",
    "ax.scatter(y, predicted, edgecolors=(0, 0, 0))\n",
    "ax.plot([y.min(), y.max()], [y.min(), y.max()], 'k--', lw=4)\n",
    "ax.set_xlabel('Measured')\n",
    "ax.set_ylabel('Predicted')\n",
    "show()"
   ]
  },
  {
   "cell_type": "code",
   "execution_count": null,
   "metadata": {},
   "outputs": [],
   "source": [
    "psession = session.makePredictSession()"
   ]
  },
  {
   "cell_type": "code",
   "execution_count": null,
   "metadata": {},
   "outputs": [],
   "source": [
    "all = psession.predict_all()\n",
    "all.shape"
   ]
  },
  {
   "cell_type": "code",
   "execution_count": null,
   "metadata": {},
   "outputs": [],
   "source": []
  }
 ],
 "metadata": {
  "kernelspec": {
   "display_name": "Python 3",
   "language": "python",
   "name": "python3"
  },
  "language_info": {
   "codemirror_mode": {
    "name": "ipython",
    "version": 3
   },
   "file_extension": ".py",
   "mimetype": "text/x-python",
   "name": "python",
   "nbconvert_exporter": "python",
   "pygments_lexer": "ipython3",
   "version": "3.6.5"
  }
 },
 "nbformat": 4,
 "nbformat_minor": 2
}
