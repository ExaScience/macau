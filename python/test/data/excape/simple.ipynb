{
 "cells": [
  {
   "cell_type": "code",
   "execution_count": 1,
   "metadata": {},
   "outputs": [],
   "source": [
    "import matrix_io as mio\n",
    "import smurff"
   ]
  },
  {
   "cell_type": "code",
   "execution_count": 12,
   "metadata": {},
   "outputs": [],
   "source": [
    "train = mio.read_matrix(\"train.sdm\")\n",
    "test = mio.read_matrix(\"test.sdm\")"
   ]
  },
  {
   "cell_type": "code",
   "execution_count": 13,
   "metadata": {},
   "outputs": [
    {
     "data": {
      "text/plain": [
       "6.092629828286298"
      ]
     },
     "execution_count": 13,
     "metadata": {},
     "output_type": "execute_result"
    }
   ],
   "source": [
    "result = smurff.smurff(Y = train, \n",
    "              Ytest = test,         \n",
    "              priors = [\"normal\", \"normal\"], \n",
    "              aux_data = [[],[]], \n",
    "              side_info = [None, None],\n",
    "              precision = 5.0, \n",
    "              num_latent = 16,\n",
    "              nsamples = 10,\n",
    "              burnin = 10,\n",
    "             )\n",
    "result.rmse"
   ]
  },
  {
   "cell_type": "code",
   "execution_count": null,
   "metadata": {},
   "outputs": [],
   "source": []
  }
 ],
 "metadata": {
  "kernelspec": {
   "display_name": "Python 3",
   "language": "python",
   "name": "python3"
  },
  "language_info": {
   "codemirror_mode": {
    "name": "ipython",
    "version": 3
   },
   "file_extension": ".py",
   "mimetype": "text/x-python",
   "name": "python",
   "nbconvert_exporter": "python",
   "pygments_lexer": "ipython3",
   "version": "3.6.4"
  }
 },
 "nbformat": 4,
 "nbformat_minor": 2
}
