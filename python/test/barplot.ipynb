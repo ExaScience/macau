{
 "cells": [
  {
   "cell_type": "code",
   "execution_count": 133,
   "metadata": {},
   "outputs": [
    {
     "data": {
      "text/plain": [
       "20"
      ]
     },
     "execution_count": 133,
     "metadata": {},
     "output_type": "execute_result"
    }
   ],
   "source": [
    "import os\n",
    "result_str = open(\"work/latest/results.pydata\", 'r').read()\n",
    "results = eval(result_str)\n",
    "len(results)"
   ]
  },
  {
   "cell_type": "code",
   "execution_count": 134,
   "metadata": {},
   "outputs": [
    {
     "data": {
      "text/plain": [
       "20"
      ]
     },
     "execution_count": 134,
     "metadata": {},
     "output_type": "execute_result"
    }
   ],
   "source": [
    "for r in results:\n",
    "    r[\"args\"][\"env\"] = os.path.basename(r[\"args\"][\"env\"])\n",
    "    r[\"args\"][\"row_features\"] = str(r[\"args\"][\"row_features\"])\n",
    "    r[\"args\"][\"col_features\"] = str(r[\"args\"][\"col_features\"])\n",
    "    \n",
    "# results = [ r for r in results if not r[\"args\"][\"row_features\"] and not r[\"args\"][\"col_features\"] ]\n",
    "# results = [ r for r in results if r[\"args\"][\"row_features\"] or r[\"args\"][\"col_features\"] ]\n",
    "# results = [ r for r in results if r[\"args\"][\"precenter\"] != \"rows\"  and r[\"args\"][\"incenter\"] != \"rows\" ]\n",
    "# results = [ r for r in results if r[\"args\"][\"incenter\"] == \"none\"  or r[\"args\"][\"env\"] != \"smurff-nocenter\" ]\n",
    "# results = [ r for r in results if r[\"args\"][\"precenter\"] == \"none\" ]\n",
    "\n",
    "len(results)"
   ]
  },
  {
   "cell_type": "code",
   "execution_count": 141,
   "metadata": {},
   "outputs": [
    {
     "data": {
      "text/plain": [
       "(['row_prior', 'col_prior', 'row_features', 'env'],\n",
       " [('smurff', 'smurff'),\n",
       "  ('num_latent', '16'),\n",
       "  ('burnin', '20'),\n",
       "  ('nsamples', '50'),\n",
       "  ('incenter', 'global'),\n",
       "  ('precenter', 'none'),\n",
       "  ('col_features', '[]'),\n",
       "  ('direct', 'True'),\n",
       "  ('precision', '5.0'),\n",
       "  ('adaptive', 'None'),\n",
       "  ('test', 'test.sdm'),\n",
       "  ('train', 'train.sdm'),\n",
       "  ('datasubdir', 'chembl_58/sample1/cluster1'),\n",
       "  ('fulldatadir',\n",
       "   '/home/vanderaa/excape/smurff/python/test/data/chembl_58/sample1/cluster1')])"
      ]
     },
     "execution_count": 141,
     "metadata": {},
     "output_type": "execute_result"
    }
   ],
   "source": [
    "# filter args that are always the same\n",
    "keys = results[0][\"args\"].keys()\n",
    "changing_keys = []\n",
    "fixed_keys = []\n",
    "for k in keys:\n",
    "    values = [str(r[\"args\"][k]) for r in results]\n",
    "    if len(set(values)) > 1:\n",
    "        changing_keys.append(k)\n",
    "    else:\n",
    "        assert values[0] \n",
    "        fixed_keys.append((k, values[0]))\n",
    "\n",
    "for r in results:\n",
    "    filtered_args = [ str(r[\"args\"][k]) for k in fkeys ]\n",
    "    r[\"label\"] = \"_\".join(filtered_args)\n",
    "\n",
    "changing_keys,fixed_keys"
   ]
  },
  {
   "cell_type": "code",
   "execution_count": 144,
   "metadata": {
    "scrolled": false
   },
   "outputs": [
    {
     "data": {
      "text/html": [
       "<div>\n",
       "<style scoped>\n",
       "    .dataframe tbody tr th:only-of-type {\n",
       "        vertical-align: middle;\n",
       "    }\n",
       "\n",
       "    .dataframe tbody tr th {\n",
       "        vertical-align: top;\n",
       "    }\n",
       "\n",
       "    .dataframe thead th {\n",
       "        text-align: right;\n",
       "    }\n",
       "</style>\n",
       "<table border=\"1\" class=\"dataframe\">\n",
       "  <thead>\n",
       "    <tr style=\"text-align: right;\">\n",
       "      <th></th>\n",
       "      <th>row_prior</th>\n",
       "      <th>col_prior</th>\n",
       "      <th>row_features</th>\n",
       "      <th>env</th>\n",
       "      <th>rmse</th>\n",
       "    </tr>\n",
       "  </thead>\n",
       "  <tbody>\n",
       "    <tr>\n",
       "      <th>3</th>\n",
       "      <td>macau</td>\n",
       "      <td>normal</td>\n",
       "      <td>['feat_0_0.ddm']</td>\n",
       "      <td>macau-0.5.0</td>\n",
       "      <td>4.281642</td>\n",
       "    </tr>\n",
       "    <tr>\n",
       "      <th>10</th>\n",
       "      <td>macau</td>\n",
       "      <td>normal</td>\n",
       "      <td>['feat_0_0.ddm']</td>\n",
       "      <td>smurff-0.6.2</td>\n",
       "      <td>-1.000000</td>\n",
       "    </tr>\n",
       "    <tr>\n",
       "      <th>4</th>\n",
       "      <td>macau</td>\n",
       "      <td>normal</td>\n",
       "      <td>['feat_0_0.ddm']</td>\n",
       "      <td>smurff-0.9.0</td>\n",
       "      <td>4.271457</td>\n",
       "    </tr>\n",
       "    <tr>\n",
       "      <th>15</th>\n",
       "      <td>macau</td>\n",
       "      <td>normal</td>\n",
       "      <td>['feat_0_0.ddm']</td>\n",
       "      <td>smurff-latest</td>\n",
       "      <td>4.271457</td>\n",
       "    </tr>\n",
       "    <tr>\n",
       "      <th>5</th>\n",
       "      <td>macau</td>\n",
       "      <td>normal</td>\n",
       "      <td>['feat_0_0.ddm']</td>\n",
       "      <td>smurff-nocenter</td>\n",
       "      <td>6.999079</td>\n",
       "    </tr>\n",
       "    <tr>\n",
       "      <th>6</th>\n",
       "      <td>normal</td>\n",
       "      <td>normal</td>\n",
       "      <td>['feat_0_0.ddm']</td>\n",
       "      <td>macau-0.5.0</td>\n",
       "      <td>-1.000000</td>\n",
       "    </tr>\n",
       "    <tr>\n",
       "      <th>7</th>\n",
       "      <td>normal</td>\n",
       "      <td>normal</td>\n",
       "      <td>['feat_0_0.ddm']</td>\n",
       "      <td>smurff-0.6.2</td>\n",
       "      <td>48.312694</td>\n",
       "    </tr>\n",
       "    <tr>\n",
       "      <th>2</th>\n",
       "      <td>normal</td>\n",
       "      <td>normal</td>\n",
       "      <td>['feat_0_0.ddm']</td>\n",
       "      <td>smurff-0.9.0</td>\n",
       "      <td>6.191710</td>\n",
       "    </tr>\n",
       "    <tr>\n",
       "      <th>11</th>\n",
       "      <td>normal</td>\n",
       "      <td>normal</td>\n",
       "      <td>['feat_0_0.ddm']</td>\n",
       "      <td>smurff-latest</td>\n",
       "      <td>6.191710</td>\n",
       "    </tr>\n",
       "    <tr>\n",
       "      <th>16</th>\n",
       "      <td>normal</td>\n",
       "      <td>normal</td>\n",
       "      <td>['feat_0_0.ddm']</td>\n",
       "      <td>smurff-nocenter</td>\n",
       "      <td>6.715876</td>\n",
       "    </tr>\n",
       "    <tr>\n",
       "      <th>17</th>\n",
       "      <td>normal</td>\n",
       "      <td>normal</td>\n",
       "      <td>[]</td>\n",
       "      <td>macau-0.5.0</td>\n",
       "      <td>4.272829</td>\n",
       "    </tr>\n",
       "    <tr>\n",
       "      <th>12</th>\n",
       "      <td>normal</td>\n",
       "      <td>normal</td>\n",
       "      <td>[]</td>\n",
       "      <td>smurff-0.6.2</td>\n",
       "      <td>4.283020</td>\n",
       "    </tr>\n",
       "    <tr>\n",
       "      <th>9</th>\n",
       "      <td>normal</td>\n",
       "      <td>normal</td>\n",
       "      <td>[]</td>\n",
       "      <td>smurff-0.9.0</td>\n",
       "      <td>4.241821</td>\n",
       "    </tr>\n",
       "    <tr>\n",
       "      <th>0</th>\n",
       "      <td>normal</td>\n",
       "      <td>normal</td>\n",
       "      <td>[]</td>\n",
       "      <td>smurff-latest</td>\n",
       "      <td>4.241821</td>\n",
       "    </tr>\n",
       "    <tr>\n",
       "      <th>8</th>\n",
       "      <td>normal</td>\n",
       "      <td>normal</td>\n",
       "      <td>[]</td>\n",
       "      <td>smurff-nocenter</td>\n",
       "      <td>6.970571</td>\n",
       "    </tr>\n",
       "    <tr>\n",
       "      <th>18</th>\n",
       "      <td>normal</td>\n",
       "      <td>spikeandslab</td>\n",
       "      <td>['feat_0_0.ddm']</td>\n",
       "      <td>macau-0.5.0</td>\n",
       "      <td>-1.000000</td>\n",
       "    </tr>\n",
       "    <tr>\n",
       "      <th>13</th>\n",
       "      <td>normal</td>\n",
       "      <td>spikeandslab</td>\n",
       "      <td>['feat_0_0.ddm']</td>\n",
       "      <td>smurff-0.6.2</td>\n",
       "      <td>48.384317</td>\n",
       "    </tr>\n",
       "    <tr>\n",
       "      <th>14</th>\n",
       "      <td>normal</td>\n",
       "      <td>spikeandslab</td>\n",
       "      <td>['feat_0_0.ddm']</td>\n",
       "      <td>smurff-0.9.0</td>\n",
       "      <td>10.105658</td>\n",
       "    </tr>\n",
       "    <tr>\n",
       "      <th>1</th>\n",
       "      <td>normal</td>\n",
       "      <td>spikeandslab</td>\n",
       "      <td>['feat_0_0.ddm']</td>\n",
       "      <td>smurff-latest</td>\n",
       "      <td>10.105658</td>\n",
       "    </tr>\n",
       "    <tr>\n",
       "      <th>19</th>\n",
       "      <td>normal</td>\n",
       "      <td>spikeandslab</td>\n",
       "      <td>['feat_0_0.ddm']</td>\n",
       "      <td>smurff-nocenter</td>\n",
       "      <td>10.458713</td>\n",
       "    </tr>\n",
       "  </tbody>\n",
       "</table>\n",
       "</div>"
      ],
      "text/plain": [
       "   row_prior     col_prior      row_features              env       rmse\n",
       "3      macau        normal  ['feat_0_0.ddm']      macau-0.5.0   4.281642\n",
       "10     macau        normal  ['feat_0_0.ddm']     smurff-0.6.2  -1.000000\n",
       "4      macau        normal  ['feat_0_0.ddm']     smurff-0.9.0   4.271457\n",
       "15     macau        normal  ['feat_0_0.ddm']    smurff-latest   4.271457\n",
       "5      macau        normal  ['feat_0_0.ddm']  smurff-nocenter   6.999079\n",
       "6     normal        normal  ['feat_0_0.ddm']      macau-0.5.0  -1.000000\n",
       "7     normal        normal  ['feat_0_0.ddm']     smurff-0.6.2  48.312694\n",
       "2     normal        normal  ['feat_0_0.ddm']     smurff-0.9.0   6.191710\n",
       "11    normal        normal  ['feat_0_0.ddm']    smurff-latest   6.191710\n",
       "16    normal        normal  ['feat_0_0.ddm']  smurff-nocenter   6.715876\n",
       "17    normal        normal                []      macau-0.5.0   4.272829\n",
       "12    normal        normal                []     smurff-0.6.2   4.283020\n",
       "9     normal        normal                []     smurff-0.9.0   4.241821\n",
       "0     normal        normal                []    smurff-latest   4.241821\n",
       "8     normal        normal                []  smurff-nocenter   6.970571\n",
       "18    normal  spikeandslab  ['feat_0_0.ddm']      macau-0.5.0  -1.000000\n",
       "13    normal  spikeandslab  ['feat_0_0.ddm']     smurff-0.6.2  48.384317\n",
       "14    normal  spikeandslab  ['feat_0_0.ddm']     smurff-0.9.0  10.105658\n",
       "1     normal  spikeandslab  ['feat_0_0.ddm']    smurff-latest  10.105658\n",
       "19    normal  spikeandslab  ['feat_0_0.ddm']  smurff-nocenter  10.458713"
      ]
     },
     "execution_count": 144,
     "metadata": {},
     "output_type": "execute_result"
    }
   ],
   "source": [
    "import pandas as pd\n",
    "df = pd.DataFrame(([ r[\"args\"][k] for k in changing_keys ] + [ r[\"result\"][\"rmse\"] ] for r in results),\n",
    "                 columns = changing_keys + [ \"rmse\"])\n",
    "df\n",
    "#for mode in \"cols\", \"global\", \"none\":\n",
    "#    df.loc[(df[\"precenter\"] == mode) | (df[\"incenter\"] == mode)].plot(x = [\"precenter\", \"incenter\", \"env\"], kind=\"bar\")\n",
    "\n",
    "df.sort_values(changing_keys)"
   ]
  },
  {
   "cell_type": "code",
   "execution_count": 58,
   "metadata": {},
   "outputs": [
    {
     "data": {
      "text/plain": [
       "array([[42]])"
      ]
     },
     "execution_count": 58,
     "metadata": {},
     "output_type": "execute_result"
    }
   ],
   "source": [
    "import numpy as np\n",
    "np.full([1,1], 42)"
   ]
  },
  {
   "cell_type": "code",
   "execution_count": null,
   "metadata": {},
   "outputs": [],
   "source": []
  }
 ],
 "metadata": {
  "kernelspec": {
   "display_name": "Python 3",
   "language": "python",
   "name": "python3"
  },
  "language_info": {
   "codemirror_mode": {
    "name": "ipython",
    "version": 3
   },
   "file_extension": ".py",
   "mimetype": "text/x-python",
   "name": "python",
   "nbconvert_exporter": "python",
   "pygments_lexer": "ipython3",
   "version": "3.6.3"
  }
 },
 "nbformat": 4,
 "nbformat_minor": 2
}
